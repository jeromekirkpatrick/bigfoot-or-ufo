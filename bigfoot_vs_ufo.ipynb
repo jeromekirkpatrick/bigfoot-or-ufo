{
 "cells": [
  {
   "cell_type": "markdown",
   "metadata": {},
   "source": [
    "# BIGFOOT vs UFO\n",
    "* Exploration of webscraped data with Beautiful Soup.\n",
    "* Configuring functions to convert bigfoot and ufo data.\n",
    "    * Requiring individualized functions.\n",
    "* Dealing with nans and class imbalance\n",
    "* Classification\n",
    "    * Countvectorizer and Tfidfvectorizer\n",
    "    * Train test split\n",
    "    * Naïve Bayes\n",
    "        * Bernoulli\n",
    "        * Multinomial\n",
    "    * Random Forest\n",
    "    * Roc-auc curves and scores"
   ]
  },
  {
   "cell_type": "markdown",
   "metadata": {},
   "source": [
    "### Reading and parsing json files containing html content\n",
    "See the [BeautifulSoup documentation](https://www.crummy.com/software/BeautifulSoup/bs4/doc/) "
   ]
  },
  {
   "cell_type": "code",
   "execution_count": 2,
   "metadata": {},
   "outputs": [],
   "source": [
    "import pandas as pd\n",
    "import numpy as np\n",
    "import matplotlib.pyplot as plt\n",
    "import scipy.stats as stats"
   ]
  },
  {
   "cell_type": "code",
   "execution_count": 3,
   "metadata": {},
   "outputs": [],
   "source": [
    "import json # to work with json file format\n",
    "from bs4 import BeautifulSoup # to parse html"
   ]
  },
  {
   "cell_type": "markdown",
   "metadata": {},
   "source": [
    "## Exploring bigfoot data with Beautiful Soup"
   ]
  },
  {
   "cell_type": "code",
   "execution_count": 4,
   "metadata": {},
   "outputs": [
    {
     "name": "stdout",
     "output_type": "stream",
     "text": [
      "<class '_io.TextIOWrapper'>\n"
     ]
    }
   ],
   "source": [
    "# TODO: this doesn't scale well and doesn't help with looking at the data.\n",
    "#       Possible solutions: load into pandas dataframe or mongodb, maybe both.\n",
    "records = []\n",
    "with open('data/bigfoot_first100records.json') as f:\n",
    "    print(type(f))\n",
    "    for i in f:\n",
    "#         print(i)\n",
    "#         print(type(i))\n",
    "        records.append(json.loads(i))"
   ]
  },
  {
   "cell_type": "code",
   "execution_count": 5,
   "metadata": {},
   "outputs": [
    {
     "data": {
      "text/plain": [
       "True"
      ]
     },
     "execution_count": 5,
     "metadata": {},
     "output_type": "execute_result"
    }
   ],
   "source": [
    "type('i') == str"
   ]
  },
  {
   "cell_type": "code",
   "execution_count": 6,
   "metadata": {},
   "outputs": [
    {
     "data": {
      "text/html": [
       "<div>\n",
       "<style scoped>\n",
       "    .dataframe tbody tr th:only-of-type {\n",
       "        vertical-align: middle;\n",
       "    }\n",
       "\n",
       "    .dataframe tbody tr th {\n",
       "        vertical-align: top;\n",
       "    }\n",
       "\n",
       "    .dataframe thead th {\n",
       "        text-align: right;\n",
       "    }\n",
       "</style>\n",
       "<table border=\"1\" class=\"dataframe\">\n",
       "  <thead>\n",
       "    <tr style=\"text-align: right;\">\n",
       "      <th></th>\n",
       "      <th>_id</th>\n",
       "      <th>url</th>\n",
       "      <th>html</th>\n",
       "      <th>time</th>\n",
       "    </tr>\n",
       "  </thead>\n",
       "  <tbody>\n",
       "    <tr>\n",
       "      <th>0</th>\n",
       "      <td>{'$oid': '5939abbd2acdf6607095366c'}</td>\n",
       "      <td>show_report.asp?id=13038</td>\n",
       "      <td>\\r\\n&lt;!doctype html public \"-//w3c//dtd html 4....</td>\n",
       "      <td>Thu Jun  8 19:55:40 2017</td>\n",
       "    </tr>\n",
       "    <tr>\n",
       "      <th>1</th>\n",
       "      <td>{'$oid': '5939abbd2acdf6607095366d'}</td>\n",
       "      <td>show_report.asp?id=8792</td>\n",
       "      <td>\\r\\n&lt;!doctype html public \"-//w3c//dtd html 4....</td>\n",
       "      <td>Thu Jun  8 19:55:41 2017</td>\n",
       "    </tr>\n",
       "    <tr>\n",
       "      <th>2</th>\n",
       "      <td>{'$oid': '5939abbd2acdf6607095366e'}</td>\n",
       "      <td>show_report.asp?id=1255</td>\n",
       "      <td>\\r\\n&lt;!doctype html public \"-//w3c//dtd html 4....</td>\n",
       "      <td>Thu Jun  8 19:55:41 2017</td>\n",
       "    </tr>\n",
       "    <tr>\n",
       "      <th>3</th>\n",
       "      <td>{'$oid': '5939abbd2acdf6607095366f'}</td>\n",
       "      <td>show_report.asp?id=11616</td>\n",
       "      <td>\\r\\n&lt;!doctype html public \"-//w3c//dtd html 4....</td>\n",
       "      <td>Thu Jun  8 19:55:41 2017</td>\n",
       "    </tr>\n",
       "    <tr>\n",
       "      <th>4</th>\n",
       "      <td>{'$oid': '5939abbe2acdf66070953670'}</td>\n",
       "      <td>show_report.asp?id=637</td>\n",
       "      <td>\\r\\n&lt;!doctype html public \"-//w3c//dtd html 4....</td>\n",
       "      <td>Thu Jun  8 19:55:42 2017</td>\n",
       "    </tr>\n",
       "    <tr>\n",
       "      <th>...</th>\n",
       "      <td>...</td>\n",
       "      <td>...</td>\n",
       "      <td>...</td>\n",
       "      <td>...</td>\n",
       "    </tr>\n",
       "    <tr>\n",
       "      <th>94</th>\n",
       "      <td>{'$oid': '5939abdb2acdf660709536ca'}</td>\n",
       "      <td>show_report.asp?id=17480</td>\n",
       "      <td>\\r\\n&lt;!doctype html public \"-//w3c//dtd html 4....</td>\n",
       "      <td>Thu Jun  8 19:56:11 2017</td>\n",
       "    </tr>\n",
       "    <tr>\n",
       "      <th>95</th>\n",
       "      <td>{'$oid': '5939abdb2acdf660709536cb'}</td>\n",
       "      <td>show_report.asp?id=1419</td>\n",
       "      <td>\\r\\n&lt;!doctype html public \"-//w3c//dtd html 4....</td>\n",
       "      <td>Thu Jun  8 19:56:11 2017</td>\n",
       "    </tr>\n",
       "    <tr>\n",
       "      <th>96</th>\n",
       "      <td>{'$oid': '5939abdb2acdf660709536cc'}</td>\n",
       "      <td>show_report.asp?id=25238</td>\n",
       "      <td>\\r\\n&lt;!doctype html public \"-//w3c//dtd html 4....</td>\n",
       "      <td>Thu Jun  8 19:56:11 2017</td>\n",
       "    </tr>\n",
       "    <tr>\n",
       "      <th>97</th>\n",
       "      <td>{'$oid': '5939abdc2acdf660709536cd'}</td>\n",
       "      <td>show_report.asp?id=44487</td>\n",
       "      <td>\\r\\n&lt;!doctype html public \"-//w3c//dtd html 4....</td>\n",
       "      <td>Thu Jun  8 19:56:12 2017</td>\n",
       "    </tr>\n",
       "    <tr>\n",
       "      <th>98</th>\n",
       "      <td>{'$oid': '5939abdc2acdf660709536ce'}</td>\n",
       "      <td>show_report.asp?id=44849</td>\n",
       "      <td>\\r\\n&lt;!doctype html public \"-//w3c//dtd html 4....</td>\n",
       "      <td>Thu Jun  8 19:56:12 2017</td>\n",
       "    </tr>\n",
       "  </tbody>\n",
       "</table>\n",
       "<p>99 rows × 4 columns</p>\n",
       "</div>"
      ],
      "text/plain": [
       "                                     _id                       url  \\\n",
       "0   {'$oid': '5939abbd2acdf6607095366c'}  show_report.asp?id=13038   \n",
       "1   {'$oid': '5939abbd2acdf6607095366d'}   show_report.asp?id=8792   \n",
       "2   {'$oid': '5939abbd2acdf6607095366e'}   show_report.asp?id=1255   \n",
       "3   {'$oid': '5939abbd2acdf6607095366f'}  show_report.asp?id=11616   \n",
       "4   {'$oid': '5939abbe2acdf66070953670'}    show_report.asp?id=637   \n",
       "..                                   ...                       ...   \n",
       "94  {'$oid': '5939abdb2acdf660709536ca'}  show_report.asp?id=17480   \n",
       "95  {'$oid': '5939abdb2acdf660709536cb'}   show_report.asp?id=1419   \n",
       "96  {'$oid': '5939abdb2acdf660709536cc'}  show_report.asp?id=25238   \n",
       "97  {'$oid': '5939abdc2acdf660709536cd'}  show_report.asp?id=44487   \n",
       "98  {'$oid': '5939abdc2acdf660709536ce'}  show_report.asp?id=44849   \n",
       "\n",
       "                                                 html  \\\n",
       "0   \\r\\n<!doctype html public \"-//w3c//dtd html 4....   \n",
       "1   \\r\\n<!doctype html public \"-//w3c//dtd html 4....   \n",
       "2   \\r\\n<!doctype html public \"-//w3c//dtd html 4....   \n",
       "3   \\r\\n<!doctype html public \"-//w3c//dtd html 4....   \n",
       "4   \\r\\n<!doctype html public \"-//w3c//dtd html 4....   \n",
       "..                                                ...   \n",
       "94  \\r\\n<!doctype html public \"-//w3c//dtd html 4....   \n",
       "95  \\r\\n<!doctype html public \"-//w3c//dtd html 4....   \n",
       "96  \\r\\n<!doctype html public \"-//w3c//dtd html 4....   \n",
       "97  \\r\\n<!doctype html public \"-//w3c//dtd html 4....   \n",
       "98  \\r\\n<!doctype html public \"-//w3c//dtd html 4....   \n",
       "\n",
       "                        time  \n",
       "0   Thu Jun  8 19:55:40 2017  \n",
       "1   Thu Jun  8 19:55:41 2017  \n",
       "2   Thu Jun  8 19:55:41 2017  \n",
       "3   Thu Jun  8 19:55:41 2017  \n",
       "4   Thu Jun  8 19:55:42 2017  \n",
       "..                       ...  \n",
       "94  Thu Jun  8 19:56:11 2017  \n",
       "95  Thu Jun  8 19:56:11 2017  \n",
       "96  Thu Jun  8 19:56:11 2017  \n",
       "97  Thu Jun  8 19:56:12 2017  \n",
       "98  Thu Jun  8 19:56:12 2017  \n",
       "\n",
       "[99 rows x 4 columns]"
      ]
     },
     "execution_count": 6,
     "metadata": {},
     "output_type": "execute_result"
    }
   ],
   "source": [
    "# Create URL to JSON file (alternatively this can be a filepath)\n",
    "path = 'data/bigfoot_first100records.json'\n",
    "\n",
    "\n",
    "json_df = pd.read_json(path, lines=True)\n",
    "\n",
    "# this is what the df looks like\n",
    "json_df\n"
   ]
  },
  {
   "cell_type": "code",
   "execution_count": 7,
   "metadata": {},
   "outputs": [
    {
     "data": {
      "text/plain": [
       "str"
      ]
     },
     "execution_count": 7,
     "metadata": {},
     "output_type": "execute_result"
    }
   ],
   "source": [
    "type(json_df.html[0])"
   ]
  },
  {
   "cell_type": "code",
   "execution_count": 8,
   "metadata": {},
   "outputs": [],
   "source": [
    "# key: 'html', value: 0\n",
    "# big, messy string\n",
    "# json_df.html[0] # long string"
   ]
  },
  {
   "cell_type": "code",
   "execution_count": 9,
   "metadata": {},
   "outputs": [
    {
     "data": {
      "text/plain": [
       "dict"
      ]
     },
     "execution_count": 9,
     "metadata": {},
     "output_type": "execute_result"
    }
   ],
   "source": [
    "type(records[0]['_id'])"
   ]
  },
  {
   "cell_type": "code",
   "execution_count": 10,
   "metadata": {},
   "outputs": [],
   "source": [
    "# show the first record, which is a dict\n",
    "# big, messy dict\n",
    "# records[0]"
   ]
  },
  {
   "cell_type": "code",
   "execution_count": 11,
   "metadata": {},
   "outputs": [
    {
     "data": {
      "text/plain": [
       "dict_keys(['_id', 'url', 'html', 'time'])"
      ]
     },
     "execution_count": 11,
     "metadata": {},
     "output_type": "execute_result"
    }
   ],
   "source": [
    "# records is a dict\n",
    "# keys of the dict record\n",
    "records[0].keys()"
   ]
  },
  {
   "cell_type": "code",
   "execution_count": 12,
   "metadata": {},
   "outputs": [
    {
     "name": "stdout",
     "output_type": "stream",
     "text": [
      "dict_keys(['_id', 'url', 'html', 'time']) \n",
      "\n"
     ]
    }
   ],
   "source": [
    "# finds each key in json file for that record\n",
    "print(records[0].keys(), '\\n')\n",
    "\n",
    "# prints each key and value (using f strings)\n",
    "# for k, v in records[0].items():\n",
    "#     print(f'KEY: {k} \\nVALUE: {v} \\n')"
   ]
  },
  {
   "cell_type": "code",
   "execution_count": 13,
   "metadata": {},
   "outputs": [
    {
     "data": {
      "text/plain": [
       "str"
      ]
     },
     "execution_count": 13,
     "metadata": {},
     "output_type": "execute_result"
    }
   ],
   "source": [
    "# use BeautifulSoup to parse the html\n",
    "soup = BeautifulSoup(records[0]['html'], 'html.parser')\n",
    "type(soup.get_text())"
   ]
  },
  {
   "cell_type": "code",
   "execution_count": 14,
   "metadata": {},
   "outputs": [],
   "source": [
    "# messy, just text portion of html string\n",
    "# soup.get_text()"
   ]
  },
  {
   "cell_type": "code",
   "execution_count": 15,
   "metadata": {},
   "outputs": [],
   "source": [
    "# print(soup.prettify())"
   ]
  },
  {
   "cell_type": "code",
   "execution_count": 16,
   "metadata": {},
   "outputs": [
    {
     "name": "stdout",
     "output_type": "stream",
     "text": [
      "<title>BFRO Report 13038: Snowmobiler has encounter in deep snow near Potter, AK</title>\n",
      "BFRO Report 13038: Snowmobiler has encounter in deep snow near Potter, AK\n"
     ]
    }
   ],
   "source": [
    "print(soup.title)\n",
    "print(soup.title.text)"
   ]
  },
  {
   "cell_type": "code",
   "execution_count": 17,
   "metadata": {},
   "outputs": [
    {
     "data": {
      "text/plain": [
       "[<span class=\"field\">Submitted  by  witness   on Saturday, November 12, 2005.</span>,\n",
       " <span class=\"field\">Snowmobiler has encounter in deep snow near Potter, AK</span>,\n",
       " <span class=\"field\">YEAR:</span>,\n",
       " <span class=\"field\">SEASON:</span>,\n",
       " <span class=\"field\">MONTH:</span>,\n",
       " <span class=\"field\">STATE:</span>,\n",
       " <span class=\"field\">COUNTY:</span>,\n",
       " <span class=\"field\">LOCATION DETAILS:</span>,\n",
       " <span class=\"field\">NEAREST TOWN:</span>,\n",
       " <span class=\"field\">NEAREST ROAD:</span>,\n",
       " <span class=\"field\">OBSERVED:</span>,\n",
       " <span class=\"field\">ALSO NOTICED:</span>,\n",
       " <span class=\"field\">OTHER WITNESSES:</span>,\n",
       " <span class=\"field\">OTHER STORIES:</span>,\n",
       " <span class=\"field\">TIME AND CONDITIONS:</span>,\n",
       " <span class=\"field\">ENVIRONMENT:</span>]"
      ]
     },
     "execution_count": 17,
     "metadata": {},
     "output_type": "execute_result"
    }
   ],
   "source": [
    "# filtering by class and attribute\n",
    "soup.find_all('span', {'class': 'field'})"
   ]
  },
  {
   "cell_type": "code",
   "execution_count": 20,
   "metadata": {},
   "outputs": [],
   "source": [
    "# using tag p (paragraph)\n",
    "# soup.find_all('p')"
   ]
  },
  {
   "cell_type": "code",
   "execution_count": 21,
   "metadata": {},
   "outputs": [
    {
     "data": {
      "text/html": [
       "<div>\n",
       "<style scoped>\n",
       "    .dataframe tbody tr th:only-of-type {\n",
       "        vertical-align: middle;\n",
       "    }\n",
       "\n",
       "    .dataframe tbody tr th {\n",
       "        vertical-align: top;\n",
       "    }\n",
       "\n",
       "    .dataframe thead th {\n",
       "        text-align: right;\n",
       "    }\n",
       "</style>\n",
       "<table border=\"1\" class=\"dataframe\">\n",
       "  <thead>\n",
       "    <tr style=\"text-align: right;\">\n",
       "      <th></th>\n",
       "      <th>YEAR</th>\n",
       "      <th>SEASON</th>\n",
       "      <th>MONTH</th>\n",
       "      <th>STATE</th>\n",
       "      <th>COUNTY</th>\n",
       "      <th>LOCATION DETAILS</th>\n",
       "      <th>NEAREST TOWN</th>\n",
       "      <th>NEAREST ROAD</th>\n",
       "      <th>OBSERVED</th>\n",
       "      <th>ALSO NOTICED</th>\n",
       "      <th>OTHER WITNESSES</th>\n",
       "      <th>OTHER STORIES</th>\n",
       "      <th>TIME AND CONDITIONS</th>\n",
       "      <th>ENVIRONMENT</th>\n",
       "      <th>DATE</th>\n",
       "    </tr>\n",
       "  </thead>\n",
       "  <tbody>\n",
       "    <tr>\n",
       "      <th>1</th>\n",
       "      <td>2004</td>\n",
       "      <td>Winter</td>\n",
       "      <td>February</td>\n",
       "      <td>Alaska</td>\n",
       "      <td>Anchorage County</td>\n",
       "      <td>Up near powerline clearings east of Potter Mar...</td>\n",
       "      <td>Anchorage / Hillside</td>\n",
       "      <td>No real roads in the area</td>\n",
       "      <td>I and two of my friends were bored one night s...</td>\n",
       "      <td>Some tracks in the snow, and a clearing in the...</td>\n",
       "      <td>My two friends were snowmachining behind me bu...</td>\n",
       "      <td>I have not heard of any other incidents in Anc...</td>\n",
       "      <td>Middle of the night. The only light was the he...</td>\n",
       "      <td>In the middle of the woods, in a clearing cove...</td>\n",
       "      <td>NaN</td>\n",
       "    </tr>\n",
       "    <tr>\n",
       "      <th>1</th>\n",
       "      <td>2003</td>\n",
       "      <td>Winter</td>\n",
       "      <td>December</td>\n",
       "      <td>Alaska</td>\n",
       "      <td>Anchorage County</td>\n",
       "      <td>Few houses on the way, a power relay station. ...</td>\n",
       "      <td>Anchorage</td>\n",
       "      <td>Dowling</td>\n",
       "      <td>Me and a couple of friends had been bored, whe...</td>\n",
       "      <td>We smelled of colonge and after shave, and one...</td>\n",
       "      <td>4. Me, w-man, warren and sean. We were at my h...</td>\n",
       "      <td>no</td>\n",
       "      <td>Started at 11, ended at about 3-3:30. Weather ...</td>\n",
       "      <td>A pine forest, with a bog or swamp on the righ...</td>\n",
       "      <td>Friday night</td>\n",
       "    </tr>\n",
       "  </tbody>\n",
       "</table>\n",
       "</div>"
      ],
      "text/plain": [
       "   YEAR  SEASON     MONTH   STATE            COUNTY  \\\n",
       "1  2004  Winter  February  Alaska  Anchorage County   \n",
       "1  2003  Winter  December  Alaska  Anchorage County   \n",
       "\n",
       "                                    LOCATION DETAILS          NEAREST TOWN  \\\n",
       "1  Up near powerline clearings east of Potter Mar...  Anchorage / Hillside   \n",
       "1  Few houses on the way, a power relay station. ...             Anchorage   \n",
       "\n",
       "                NEAREST ROAD  \\\n",
       "1  No real roads in the area   \n",
       "1                    Dowling   \n",
       "\n",
       "                                            OBSERVED  \\\n",
       "1  I and two of my friends were bored one night s...   \n",
       "1  Me and a couple of friends had been bored, whe...   \n",
       "\n",
       "                                        ALSO NOTICED  \\\n",
       "1  Some tracks in the snow, and a clearing in the...   \n",
       "1  We smelled of colonge and after shave, and one...   \n",
       "\n",
       "                                     OTHER WITNESSES  \\\n",
       "1  My two friends were snowmachining behind me bu...   \n",
       "1  4. Me, w-man, warren and sean. We were at my h...   \n",
       "\n",
       "                                       OTHER STORIES  \\\n",
       "1  I have not heard of any other incidents in Anc...   \n",
       "1                                                 no   \n",
       "\n",
       "                                 TIME AND CONDITIONS  \\\n",
       "1  Middle of the night. The only light was the he...   \n",
       "1  Started at 11, ended at about 3-3:30. Weather ...   \n",
       "\n",
       "                                         ENVIRONMENT          DATE  \n",
       "1  In the middle of the woods, in a clearing cove...           NaN  \n",
       "1  A pine forest, with a bog or swamp on the righ...  Friday night  "
      ]
     },
     "execution_count": 21,
     "metadata": {},
     "output_type": "execute_result"
    }
   ],
   "source": [
    "# testing out my first conversions to df\n",
    "soup1 = BeautifulSoup(records[0]['html'], 'html.parser')\n",
    "soup2 = BeautifulSoup(records[1]['html'], 'html.parser')\n",
    "    \n",
    "df1 = pd.DataFrame([p.text.split(': ') for p in soup1.find_all(\"p\") if len(p.text.split(': ')) > 1]).T\n",
    "df1 = df1.rename(columns=df1.loc[0]).drop(0)\n",
    "df2 = pd.DataFrame([p.text.split(': ') for p in soup2.find_all(\"p\") if len(p.text.split(': ')) > 1]).T\n",
    "df2 = df2.rename(columns=df2.loc[0]).drop(0)\n",
    "\n",
    "pd.concat([df1,df2])\n"
   ]
  },
  {
   "cell_type": "code",
   "execution_count": 23,
   "metadata": {},
   "outputs": [],
   "source": [
    "# incrementally building res_df up to record 28, which gives KeyError: 0\n",
    "res_df = pd.DataFrame()\n",
    "# soup1 = BeautifulSoup(records[0]['html'], 'html.parser')\n",
    "# df1 = pd.DataFrame([p.text.split(': ') for p in soup1.find_all(\"p\") if len(p.text.split(': ')) > 1]).T\n",
    "# df1 = df1.rename(columns=df1.loc[0]).drop(0)\n",
    "# if res_df.empty:\n",
    "# #     print(\"yup\")\n",
    "#     res_df = pd.DataFrame(df1)\n",
    "count = 0\n",
    "for i in range(28):\n",
    "#     print('\\n',count,'\\n')\n",
    "    soup = BeautifulSoup(records[i]['html'], 'html.parser')\n",
    "#     print(soup)\n",
    "    \n",
    "    df = pd.DataFrame([p.text.split(': ') for p in soup.find_all(\"p\") if len(p.text.split(': ')) > 1]).T\n",
    "    df = df.rename(columns=df.loc[0]).drop(0)\n",
    "#     print(df)\n",
    "    if res_df.empty:\n",
    "#         print(\"yup\")\n",
    "        res_df = pd.DataFrame(df)\n",
    "    else:\n",
    "        res_df = pd.concat([res_df, df])\n",
    "    count += 1\n",
    "# res_df"
   ]
  },
  {
   "cell_type": "code",
   "execution_count": 22,
   "metadata": {},
   "outputs": [
    {
     "data": {
      "text/plain": [
       "(0, 0)"
      ]
     },
     "execution_count": 22,
     "metadata": {},
     "output_type": "execute_result"
    }
   ],
   "source": [
    "# testing individual records\n",
    "# test 28, which is creating KeyError: 0\n",
    "soup28 = BeautifulSoup(records[28]['html'], 'html.parser')\n",
    "df28 = pd.DataFrame([p.text.split(': ') for p in soup28.find_all(\"p\") if len(p.text.split(': ')) > 1] ).T\n",
    "\n",
    "# df28 = df28.rename(columns=df28.loc[0]).drop(0) # this causes error, because there is only one row\n",
    "df28.shape"
   ]
  },
  {
   "cell_type": "code",
   "execution_count": 24,
   "metadata": {},
   "outputs": [],
   "source": [
    "# code blocks needed to build records list of json records for first100 records of bigfoot data or entire bigfoot data\n",
    "\n",
    "# bigfoot_first100records\n",
    "# records = []\n",
    "# with open('data/bigfoot_first100records.json') as f:\n",
    "#     print(type(f))\n",
    "#     for i in f:\n",
    "# #         print(i)\n",
    "# #         print(type(i))\n",
    "#         records.append(json.loads(i))\n",
    "\n",
    "# # full_data - bigfoot_data\n",
    "# # create list of dict\n",
    "# full_data = []\n",
    "# with open('data/bigfoot_data.json') as f:\n",
    "# #     print(type(f))\n",
    "#     for i in f:\n",
    "#         full_data.append(json.loads(i))"
   ]
  },
  {
   "cell_type": "markdown",
   "metadata": {},
   "source": [
    "## Final function to convert bigfoot data to dataframe"
   ]
  },
  {
   "cell_type": "code",
   "execution_count": 25,
   "metadata": {},
   "outputs": [],
   "source": [
    "# final function to convert to dataframe for bigfoot data\n",
    "def convert_to_dataframe(records):\n",
    "    # outside loop, instantiate empty df to increment \n",
    "    df = pd.DataFrame()\n",
    "    for record in records:\n",
    "        soup = BeautifulSoup(record['html'], 'html.parser')\n",
    "\n",
    "        # split each p.text in soup on ': ', then transform\n",
    "        temp_df = pd.DataFrame([p.text.split(': ') for p in soup.find_all(\"p\") if len(p.text.split(': ')) > 1 and ': ' in p.text]).T # and condition to pass exception\n",
    "\n",
    "        # exception for df with no columns\n",
    "        if temp_df.shape[0] < 2:\n",
    "            continue\n",
    "\n",
    "        # assign columns to row 0 values, drop row 0\n",
    "        temp_df = temp_df.rename(columns=temp_df.loc[0]).drop(0)\n",
    "        \n",
    "        # one time step to populate df\n",
    "        if df.empty:\n",
    "            df = pd.DataFrame(temp_df)\n",
    "\n",
    "        else:\n",
    "            df = pd.concat([df, temp_df])\n",
    "    \n",
    "    return df\n",
    "\n",
    "df = convert_to_dataframe(records)"
   ]
  },
  {
   "cell_type": "code",
   "execution_count": 27,
   "metadata": {},
   "outputs": [
    {
     "data": {
      "text/html": [
       "<div>\n",
       "<style scoped>\n",
       "    .dataframe tbody tr th:only-of-type {\n",
       "        vertical-align: middle;\n",
       "    }\n",
       "\n",
       "    .dataframe tbody tr th {\n",
       "        vertical-align: top;\n",
       "    }\n",
       "\n",
       "    .dataframe thead th {\n",
       "        text-align: right;\n",
       "    }\n",
       "</style>\n",
       "<table border=\"1\" class=\"dataframe\">\n",
       "  <thead>\n",
       "    <tr style=\"text-align: right;\">\n",
       "      <th></th>\n",
       "      <th>YEAR</th>\n",
       "      <th>SEASON</th>\n",
       "      <th>MONTH</th>\n",
       "      <th>STATE</th>\n",
       "      <th>COUNTY</th>\n",
       "      <th>OBSERVED</th>\n",
       "      <th>ALSO NOTICED</th>\n",
       "      <th>OTHER WITNESSES</th>\n",
       "      <th>OTHER STORIES</th>\n",
       "      <th>TIME AND CONDITIONS</th>\n",
       "      <th>ENVIRONMENT</th>\n",
       "    </tr>\n",
       "  </thead>\n",
       "  <tbody>\n",
       "    <tr>\n",
       "      <th>1</th>\n",
       "      <td>2004</td>\n",
       "      <td>Winter</td>\n",
       "      <td>February</td>\n",
       "      <td>Alaska</td>\n",
       "      <td>Anchorage County</td>\n",
       "      <td>I and two of my friends were bored one night s...</td>\n",
       "      <td>Some tracks in the snow, and a clearing in the...</td>\n",
       "      <td>My two friends were snowmachining behind me bu...</td>\n",
       "      <td>I have not heard of any other incidents in Anc...</td>\n",
       "      <td>Middle of the night. The only light was the he...</td>\n",
       "      <td>In the middle of the woods, in a clearing cove...</td>\n",
       "    </tr>\n",
       "    <tr>\n",
       "      <th>1</th>\n",
       "      <td>2003</td>\n",
       "      <td>Winter</td>\n",
       "      <td>December</td>\n",
       "      <td>Alaska</td>\n",
       "      <td>Anchorage County</td>\n",
       "      <td>Me and a couple of friends had been bored, whe...</td>\n",
       "      <td>We smelled of colonge and after shave, and one...</td>\n",
       "      <td>4. Me, w-man, warren and sean. We were at my h...</td>\n",
       "      <td>no</td>\n",
       "      <td>Started at 11, ended at about 3-3:30. Weather ...</td>\n",
       "      <td>A pine forest, with a bog or swamp on the righ...</td>\n",
       "    </tr>\n",
       "    <tr>\n",
       "      <th>1</th>\n",
       "      <td>1998</td>\n",
       "      <td>Fall</td>\n",
       "      <td>September</td>\n",
       "      <td>Alaska</td>\n",
       "      <td>Bethel County</td>\n",
       "      <td>My hunting buddy and I were sitting on a ridge...</td>\n",
       "      <td>nothing unusual</td>\n",
       "      <td>Scouting for caribou with high quality binocul...</td>\n",
       "      <td>Unknown</td>\n",
       "      <td>Unknown</td>\n",
       "      <td>Call Iliamna Air taxi for lat &amp; Long of Long L...</td>\n",
       "    </tr>\n",
       "    <tr>\n",
       "      <th>1</th>\n",
       "      <td>2004</td>\n",
       "      <td>Summer</td>\n",
       "      <td>July</td>\n",
       "      <td>Alaska</td>\n",
       "      <td>Bristol Bay County</td>\n",
       "      <td>To whom it may concern, I am a commercial fish...</td>\n",
       "      <td>Just these foot prints and how obvious it was ...</td>\n",
       "      <td>One other witness, and he was fishing prior to...</td>\n",
       "      <td>I've only heard of one other story, from an ol...</td>\n",
       "      <td>Approximately 12:30 pm, partially coudy/sunny.</td>\n",
       "      <td>Lake front,creek spit, gravel and sand, alder ...</td>\n",
       "    </tr>\n",
       "    <tr>\n",
       "      <th>1</th>\n",
       "      <td>2000</td>\n",
       "      <td>Summer</td>\n",
       "      <td>June</td>\n",
       "      <td>Alaska</td>\n",
       "      <td>Cordova-McCarthy County</td>\n",
       "      <td>My hiking partner and I arrived late to the Ke...</td>\n",
       "      <td>I did hear what appeared to be grunting in the...</td>\n",
       "      <td>I was the only witness, there was one other in...</td>\n",
       "      <td>None</td>\n",
       "      <td>About 12:00 Midnight / full moon / clear / dim...</td>\n",
       "      <td>This sighting was located at approximately 1 t...</td>\n",
       "    </tr>\n",
       "    <tr>\n",
       "      <th>...</th>\n",
       "      <td>...</td>\n",
       "      <td>...</td>\n",
       "      <td>...</td>\n",
       "      <td>...</td>\n",
       "      <td>...</td>\n",
       "      <td>...</td>\n",
       "      <td>...</td>\n",
       "      <td>...</td>\n",
       "      <td>...</td>\n",
       "      <td>...</td>\n",
       "      <td>...</td>\n",
       "    </tr>\n",
       "    <tr>\n",
       "      <th>1</th>\n",
       "      <td>2005</td>\n",
       "      <td>Summer</td>\n",
       "      <td>June</td>\n",
       "      <td>Alabama</td>\n",
       "      <td>Talladega County</td>\n",
       "      <td>Every year me and a group of my friends camp ...</td>\n",
       "      <td>the year before this icident we heard the nois...</td>\n",
       "      <td>There where five other witnesses, and we where...</td>\n",
       "      <td>Unknown</td>\n",
       "      <td>night time, clear skys, no wind</td>\n",
       "      <td>mountain like terrain, very lush vegitation, c...</td>\n",
       "    </tr>\n",
       "    <tr>\n",
       "      <th>1</th>\n",
       "      <td>2000</td>\n",
       "      <td>Summer</td>\n",
       "      <td>July</td>\n",
       "      <td>Alabama</td>\n",
       "      <td>Talladega County</td>\n",
       "      <td>My husband, myself and my husbands friend were...</td>\n",
       "      <td>Sounds of trees or brush moving.</td>\n",
       "      <td>3 people present talking and walking toward th...</td>\n",
       "      <td>None</td>\n",
       "      <td>1:00 or 2:00 AM. Weather was clear, was a Full...</td>\n",
       "      <td>Narrow steep trail pine trees near salt creek....</td>\n",
       "    </tr>\n",
       "    <tr>\n",
       "      <th>1</th>\n",
       "      <td>1999</td>\n",
       "      <td>Fall</td>\n",
       "      <td>Unknown</td>\n",
       "      <td>Alabama</td>\n",
       "      <td>Talladega County</td>\n",
       "      <td>Unknown</td>\n",
       "      <td>sir when i came around the curve bigfoot was ...</td>\n",
       "      <td>my oldest daughter was in the front seat</td>\n",
       "      <td>no</td>\n",
       "      <td>11pm at night</td>\n",
       "      <td>talledaga natinal forest in alabama</td>\n",
       "    </tr>\n",
       "    <tr>\n",
       "      <th>1</th>\n",
       "      <td>1967</td>\n",
       "      <td>Summer</td>\n",
       "      <td>Unknown</td>\n",
       "      <td>Alabama</td>\n",
       "      <td>Tallapoosa County</td>\n",
       "      <td>Not a good writer, but what happened to me and...</td>\n",
       "      <td>Unknown</td>\n",
       "      <td>just me that saw it</td>\n",
       "      <td>no</td>\n",
       "      <td>about 1 in the afternoon</td>\n",
       "      <td>pines, bushes, near road and swampy down in ho...</td>\n",
       "    </tr>\n",
       "    <tr>\n",
       "      <th>1</th>\n",
       "      <td>2014</td>\n",
       "      <td>Spring</td>\n",
       "      <td>April</td>\n",
       "      <td>Alabama</td>\n",
       "      <td>Tuscaloosa County</td>\n",
       "      <td>Was driving home at night about 9:00 pm. Turne...</td>\n",
       "      <td>Twisted limbs and tree branch formations near ...</td>\n",
       "      <td>Not at that moment. Saw it 4 years earlier cro...</td>\n",
       "      <td>Friend of mine was pulling up to his house at ...</td>\n",
       "      <td>9:00 at night extremely dark</td>\n",
       "      <td>Thick pine woods</td>\n",
       "    </tr>\n",
       "  </tbody>\n",
       "</table>\n",
       "<p>98 rows × 11 columns</p>\n",
       "</div>"
      ],
      "text/plain": [
       "    YEAR  SEASON      MONTH    STATE                   COUNTY  \\\n",
       "1   2004  Winter   February   Alaska         Anchorage County   \n",
       "1   2003  Winter   December   Alaska         Anchorage County   \n",
       "1   1998    Fall  September   Alaska            Bethel County   \n",
       "1   2004  Summer       July   Alaska       Bristol Bay County   \n",
       "1   2000  Summer       June   Alaska  Cordova-McCarthy County   \n",
       "..   ...     ...        ...      ...                      ...   \n",
       "1   2005  Summer       June  Alabama         Talladega County   \n",
       "1   2000  Summer       July  Alabama         Talladega County   \n",
       "1   1999    Fall    Unknown  Alabama         Talladega County   \n",
       "1   1967  Summer    Unknown  Alabama        Tallapoosa County   \n",
       "1   2014  Spring      April  Alabama        Tuscaloosa County   \n",
       "\n",
       "                                             OBSERVED  \\\n",
       "1   I and two of my friends were bored one night s...   \n",
       "1   Me and a couple of friends had been bored, whe...   \n",
       "1   My hunting buddy and I were sitting on a ridge...   \n",
       "1   To whom it may concern, I am a commercial fish...   \n",
       "1   My hiking partner and I arrived late to the Ke...   \n",
       "..                                                ...   \n",
       "1    Every year me and a group of my friends camp ...   \n",
       "1   My husband, myself and my husbands friend were...   \n",
       "1                                             Unknown   \n",
       "1   Not a good writer, but what happened to me and...   \n",
       "1   Was driving home at night about 9:00 pm. Turne...   \n",
       "\n",
       "                                         ALSO NOTICED  \\\n",
       "1   Some tracks in the snow, and a clearing in the...   \n",
       "1   We smelled of colonge and after shave, and one...   \n",
       "1                                    nothing unusual    \n",
       "1   Just these foot prints and how obvious it was ...   \n",
       "1   I did hear what appeared to be grunting in the...   \n",
       "..                                                ...   \n",
       "1   the year before this icident we heard the nois...   \n",
       "1                    Sounds of trees or brush moving.   \n",
       "1    sir when i came around the curve bigfoot was ...   \n",
       "1                                             Unknown   \n",
       "1   Twisted limbs and tree branch formations near ...   \n",
       "\n",
       "                                      OTHER WITNESSES  \\\n",
       "1   My two friends were snowmachining behind me bu...   \n",
       "1   4. Me, w-man, warren and sean. We were at my h...   \n",
       "1   Scouting for caribou with high quality binocul...   \n",
       "1   One other witness, and he was fishing prior to...   \n",
       "1   I was the only witness, there was one other in...   \n",
       "..                                                ...   \n",
       "1   There where five other witnesses, and we where...   \n",
       "1   3 people present talking and walking toward th...   \n",
       "1            my oldest daughter was in the front seat   \n",
       "1                                 just me that saw it   \n",
       "1   Not at that moment. Saw it 4 years earlier cro...   \n",
       "\n",
       "                                        OTHER STORIES  \\\n",
       "1   I have not heard of any other incidents in Anc...   \n",
       "1                                                  no   \n",
       "1                                             Unknown   \n",
       "1   I've only heard of one other story, from an ol...   \n",
       "1                                                None   \n",
       "..                                                ...   \n",
       "1                                             Unknown   \n",
       "1                                                None   \n",
       "1                                                  no   \n",
       "1                                                  no   \n",
       "1   Friend of mine was pulling up to his house at ...   \n",
       "\n",
       "                                  TIME AND CONDITIONS  \\\n",
       "1   Middle of the night. The only light was the he...   \n",
       "1   Started at 11, ended at about 3-3:30. Weather ...   \n",
       "1                                             Unknown   \n",
       "1      Approximately 12:30 pm, partially coudy/sunny.   \n",
       "1   About 12:00 Midnight / full moon / clear / dim...   \n",
       "..                                                ...   \n",
       "1                     night time, clear skys, no wind   \n",
       "1   1:00 or 2:00 AM. Weather was clear, was a Full...   \n",
       "1                                       11pm at night   \n",
       "1                            about 1 in the afternoon   \n",
       "1                       9:00 at night extremely dark    \n",
       "\n",
       "                                          ENVIRONMENT  \n",
       "1   In the middle of the woods, in a clearing cove...  \n",
       "1   A pine forest, with a bog or swamp on the righ...  \n",
       "1   Call Iliamna Air taxi for lat & Long of Long L...  \n",
       "1   Lake front,creek spit, gravel and sand, alder ...  \n",
       "1   This sighting was located at approximately 1 t...  \n",
       "..                                                ...  \n",
       "1   mountain like terrain, very lush vegitation, c...  \n",
       "1   Narrow steep trail pine trees near salt creek....  \n",
       "1                 talledaga natinal forest in alabama  \n",
       "1   pines, bushes, near road and swampy down in ho...  \n",
       "1                                    Thick pine woods  \n",
       "\n",
       "[98 rows x 11 columns]"
      ]
     },
     "execution_count": 27,
     "metadata": {},
     "output_type": "execute_result"
    }
   ],
   "source": [
    "# clean up bigfoot df columns\n",
    "subset = ['YEAR', 'SEASON', 'MONTH', 'STATE', 'COUNTY', 'OBSERVED', 'ALSO NOTICED',\n",
    "       'OTHER WITNESSES', 'OTHER STORIES', 'TIME AND CONDITIONS',\n",
    "       'ENVIRONMENT']\n",
    "# only columns with useful data\n",
    "ss = df[subset]\n",
    "# only row 1 for odd exceptions where there was more than one row while incrementing\n",
    "ss = ss.loc[1]\n",
    "ss = ss.fillna('Unknown')\n",
    "# pretty clean subset\n",
    "ss"
   ]
  },
  {
   "cell_type": "code",
   "execution_count": 28,
   "metadata": {},
   "outputs": [],
   "source": [
    "# create list of dict\n",
    "full_data = []\n",
    "\n",
    "with open('data/bigfoot_data.json') as f:\n",
    "#     print(type(f))\n",
    "    for i in f:\n",
    "        full_data.append(json.loads(i))\n",
    "        "
   ]
  },
  {
   "cell_type": "code",
   "execution_count": 29,
   "metadata": {},
   "outputs": [
    {
     "data": {
      "text/plain": [
       "list"
      ]
     },
     "execution_count": 29,
     "metadata": {},
     "output_type": "execute_result"
    }
   ],
   "source": [
    "# list of dict\n",
    "type(full_data)"
   ]
  },
  {
   "cell_type": "code",
   "execution_count": 30,
   "metadata": {},
   "outputs": [],
   "source": [
    "# takes about 5 or so minutes to run\n",
    "full_df = convert_to_dataframe(full_data)"
   ]
  },
  {
   "cell_type": "code",
   "execution_count": 31,
   "metadata": {},
   "outputs": [
    {
     "data": {
      "text/plain": [
       "(6193, 588)"
      ]
     },
     "execution_count": 31,
     "metadata": {},
     "output_type": "execute_result"
    }
   ],
   "source": [
    "full_df.shape"
   ]
  },
  {
   "cell_type": "code",
   "execution_count": 32,
   "metadata": {},
   "outputs": [
    {
     "data": {
      "text/plain": [
       "Index(['YEAR', 'SEASON', 'MONTH', 'STATE', 'COUNTY', 'LOCATION DETAILS',\n",
       "       'NEAREST TOWN', 'NEAREST ROAD', 'OBSERVED', 'ALSO NOTICED',\n",
       "       ...\n",
       "       'The witness was interviewed by phone on the evening of 01/09/08 and provided the following additional information/observations:The creature crossed the road casually, as if not in a hurry or concerned by the witness' on-coming vehicle.  It took all of 3 steps for the creature to cross the two-lane highway.  The motion was fluid and consistent with natural locomotion.  Estimating height and weight, the witness concluded that the creature was no less than six feet tall, stocky, with a weight of at least 400lbs.  Hair/fur appeared dark in colour with a reddish hue, perhaps 2 inches in length.  Facial features were not noted.  The area of the sighting is just outside Fort Frances where boreal forests, farms, a few residential homes, a lumber yard, and storage facility dot the landscape.  The creature exited the forest on the south side of the highway (having to step out of a ditch), nonchalantly crossed the highway, and entered the forest on the north side of the highway (yet again stepping into and out of a ditch).  The area is teeming with wildlife, including',\n",
       "       'The witness was staying at his grandfather's cabin in Red Gut Bay. He took his dog and went grouse hunting on Indian Island which is situated on Rainy Lake not far from the cabin. He used a long abandoned trail that lead from the waters edge into the interior of the island. Since the trail has not been used for many years, grass about 3 feet high has grown over it. The area is totally secluded and contains all sorts of game such as moose, deer, bear, lynx, rabbits, skunks and lots of blueberry and raspberry bushes.When the witness and his dog came upon the creature, he said that he must have startled it because it had the look of \"surprise\" on its face. He froze in his tracks when he saw this creature rise up from the left side of the trail where the grass meets the brush. He thinks it was possibly lying down or sitting. It rose up and just looked at him. He was approximately 20 - 30 feet from it and describes it as follows',\n",
       "       'The witness, VM, had the sighting early in the moring while driving on a rural side road. He remembers it being extremely cold that morning.He got within 50 feet of the figure. More details about the appearance',\n",
       "       'I spoke with witness on March 6, 2008.  He confirmed the details included in the report, and then added the following details',\n",
       "       'I interviewed the witness and author of this report, G, by phone and also exchanged several emails with him. He made it clear that he has never been too sympathetic to the idea of bigfoot creatures being real. And it was evident that he was having trouble coming to grips with what he and his family experienced near Blind River. Using binoculars he clearly saw an animal he knows was not a bear or a man and which did not fit into his preconceptions of whats out there. Despite having seen this animal well and associated with the extraordinary vocalizations, he still couldnt bring himself to say to me\n",
       " it must have been a sasquatch. He would only say, I dont know what it was, I just know it wasnt a bear or a man. Later in his letters G said, You asked the question was this a bear or a man? I am loathe to put a name to what I saw, but it was not a man nor was it a bear. I have seen lots of bears over the years\n",
       " If it was a bear then it was a new species of bear with knees and hands that walks upright. If you have ever seen a black bear walk on its back legs you would know that it is not happy doing it, and it isnt pretty or smooth. The thing I saw was fluid graceful and just stood up like a person, gave one last look and walked into the bush. Its insane and Im not crazy. What I saw was, to put a word to it, a bigfoot. There, I said it. That bloody thing is real. I can still see its rough appearance and the lighter shade of hair on the legs\n",
       " I will never forget it.He went on to write, I have thought about it almost every day\n",
       " I have to tell you that saying it out loud and telling someone what I saw was an odd experience\n",
       " talking about it caused me some distress, call it acceptance, call it awe, call it fear, it felt odd to openly discuss it\n",
       " denial was not working for me. Personally I was hoping someone somewhere would prove the thing exists and that my mind and my eyes would be vindicated, confirming what I saw and somehow allowing me to come to terms with it\n",
       " The more I think about it and the scale of the thing in regards to the rock it was sitting on\n",
       " something that big just cant be an illusion.The sounds G and his family heard seem to have been a combination of mechanical sounds (knocking) and varied vocalizations which included something like whistling.G is an audio engineer, one who does pure research. He said this about the sounds',\n",
       "       'The witness is an exceptionally skilled woodsman and hunter.  He is also a very private man who was reluctant to speak about his encounter.  He does not wish to reveal the location of his sighting, except to say that it occurred in northern Ontario.  The following additional information was gathered from numerous communications with him:After falling hard the witness began gathering himself up and saw that an animal had appeared in front of him.  It was \"so close,\" and he reacted instinctively',\n",
       "       'I spoke with the witness over the phone and found him to be very credible. He added a few more important details:Speculation',\n",
       "       'During an interview, the witness provided the following additional details:The bigfoot was about seven feet tall with very broad shoulders and a muscular build.  It had brownish black hair which was thinner on the chest.  Its skin was leathery and had a dark gray to black color.  It had a short, wide nose.  The \"whites\" of the eyes were ash gray and the pupils were large and black.  It had a wide mouth with full, negroid looking lips.The bigfoot was sitting cross-legged (not true Yoga style) and was moving its torso as it reached for different areas in the blueberry patch.  It had blueberries in its hands when it stood, and it walked away from the witness and disappeared into the brush about fifteen to twenty seconds later.Although the bigfoot looked in the direction of the witness immediately before rising, the witness is not positive that the bigfoot actually saw him; it may have just heard him.The witness believes that the bigfoot did not smell him because there was no wind, and because he was using the full line of \"Scent - A - Way\" scent neutralizing products.The witness felt no fear during any part of the sighting.I'm struck by a similarity between this report and Albert Ostman's story of being abducted by a bigfoot in British Columbia in 1924.  In John Green's book \"Sasquatch, The Apes Among Us,\" Albert Ostman stated',\n",
       "       'I spoke with the witness on the telephone and he added the following to his report:-  when he was younger, his family would vacation each summer in the Markdale area to visit his aunt  witness resides in the U.S.-  one of his cousins had a turkey farm about a half mile from where the sighting took place-  the time was approximately 11pm when he and his parents were driving back from his cousin's turkey farm  they were driving in a north/west direction along W Back Line-  because they were approaching a very sharp corner (see photos), they were traveling at a speed of about 20 miles per hour as they approached the turn-  the road is now paved, but at the time it was a gravel road-  although the embankment has eroded over the years (again, see photos), at the time the witness stated that the embankment was probably between 10-15 feet high - certainly steeper than it is now-  as well, at the time, the area the figure traversed from was a completely wooded area  now much of the wooded area has been cleared and a long driveway and a house have been added (see photos below)-  the family was driving a 1962 Cadillac at the time of the sighting, and the witness noted that the side and rear windows of the vehicle were quite large-  as the vehicle approached the sharp turn, the witness saw the figure in the peripheral of the vehicle's headlights  the figure was standing at the treeline at the top of the embankment (on the south-east side of W Back Line) and the witness was in disbelief at what he was seeing-  he felt that the figure was not much more than 30 feet away from the car window and he feels that he got a real good look at it-  as the vehicle passed by the figure, the witness spun around and looked out the back window, and this is when he noticed the figure began to descend off the embankment on its hind legs-  the witness watched it walk down the embankment as the brake lights illuminated the area behind the vehicle  there was also light from the lodge across the road (on their left side  the west side of W Back Line) -  by the time the vehicle had reached the stop sign, the figure had come down and was standing on the edge of the road - it was just looking towards the vehicle-  witness remembered the following physical details regarding the figure',\n",
       "       'I talked to the witness by phone 8/29/02. He had been fishing alone from a boat in a bay on the Churchill River in Saskatchewan, about 35 miles northwest of La Ronge. He had just landed a big northern pike when he felt something looking at him. He turned and looked and saw a big upright animal standing on shore 70 to 100 yards away looking at him. He made eye contact with it and it turned and walked like a man into the forest. The witness described the animal as tall - probably 8 feet tall - big and muscular. When I asked him if it could have been a bear or a human he said no, that he was sure it was neither. \"What was it then?\" I asked.  \"Well... bigfoot or sasquatch, I guess they call them,\" was his tentative reply. \"A lot of people don't believe they're real.  What do you think?\" I said.  \"Yeah, I saw it. It's real,\" he said.The animal had brown hair, two to three inches long, covering its entire body. The sighting was brief, though, and the witness was quite frightened by the experience. He could provide no further details on the animal's appearance. In talking to witnesses, like this one, who claim to have seen a sasquatch, I've been struck by a couple of things'],\n",
       "      dtype='object', length=588)"
      ]
     },
     "execution_count": 32,
     "metadata": {},
     "output_type": "execute_result"
    }
   ],
   "source": [
    "# lot of extra columns, apparently commentary on witness observation and not necessary\n",
    "full_df.columns"
   ]
  },
  {
   "cell_type": "code",
   "execution_count": 37,
   "metadata": {},
   "outputs": [
    {
     "data": {
      "text/html": [
       "<div>\n",
       "<style scoped>\n",
       "    .dataframe tbody tr th:only-of-type {\n",
       "        vertical-align: middle;\n",
       "    }\n",
       "\n",
       "    .dataframe tbody tr th {\n",
       "        vertical-align: top;\n",
       "    }\n",
       "\n",
       "    .dataframe thead th {\n",
       "        text-align: right;\n",
       "    }\n",
       "</style>\n",
       "<table border=\"1\" class=\"dataframe\">\n",
       "  <thead>\n",
       "    <tr style=\"text-align: right;\">\n",
       "      <th></th>\n",
       "      <th>YEAR</th>\n",
       "      <th>SEASON</th>\n",
       "      <th>MONTH</th>\n",
       "      <th>STATE</th>\n",
       "      <th>COUNTY</th>\n",
       "      <th>OBSERVED</th>\n",
       "      <th>ALSO NOTICED</th>\n",
       "      <th>OTHER WITNESSES</th>\n",
       "      <th>OTHER STORIES</th>\n",
       "      <th>TIME AND CONDITIONS</th>\n",
       "      <th>ENVIRONMENT</th>\n",
       "    </tr>\n",
       "  </thead>\n",
       "  <tbody>\n",
       "    <tr>\n",
       "      <th>1</th>\n",
       "      <td>2004</td>\n",
       "      <td>Winter</td>\n",
       "      <td>February</td>\n",
       "      <td>Alaska</td>\n",
       "      <td>Anchorage County</td>\n",
       "      <td>I and two of my friends were bored one night s...</td>\n",
       "      <td>Some tracks in the snow, and a clearing in the...</td>\n",
       "      <td>My two friends were snowmachining behind me bu...</td>\n",
       "      <td>I have not heard of any other incidents in Anc...</td>\n",
       "      <td>Middle of the night. The only light was the he...</td>\n",
       "      <td>In the middle of the woods, in a clearing cove...</td>\n",
       "    </tr>\n",
       "    <tr>\n",
       "      <th>1</th>\n",
       "      <td>2003</td>\n",
       "      <td>Winter</td>\n",
       "      <td>December</td>\n",
       "      <td>Alaska</td>\n",
       "      <td>Anchorage County</td>\n",
       "      <td>Me and a couple of friends had been bored, whe...</td>\n",
       "      <td>We smelled of colonge and after shave, and one...</td>\n",
       "      <td>4. Me, w-man, warren and sean. We were at my h...</td>\n",
       "      <td>no</td>\n",
       "      <td>Started at 11, ended at about 3-3:30. Weather ...</td>\n",
       "      <td>A pine forest, with a bog or swamp on the righ...</td>\n",
       "    </tr>\n",
       "    <tr>\n",
       "      <th>1</th>\n",
       "      <td>1998</td>\n",
       "      <td>Fall</td>\n",
       "      <td>September</td>\n",
       "      <td>Alaska</td>\n",
       "      <td>Bethel County</td>\n",
       "      <td>My hunting buddy and I were sitting on a ridge...</td>\n",
       "      <td>nothing unusual</td>\n",
       "      <td>Scouting for caribou with high quality binocul...</td>\n",
       "      <td>Unknown</td>\n",
       "      <td>Unknown</td>\n",
       "      <td>Call Iliamna Air taxi for lat &amp; Long of Long L...</td>\n",
       "    </tr>\n",
       "    <tr>\n",
       "      <th>1</th>\n",
       "      <td>2004</td>\n",
       "      <td>Summer</td>\n",
       "      <td>July</td>\n",
       "      <td>Alaska</td>\n",
       "      <td>Bristol Bay County</td>\n",
       "      <td>To whom it may concern, I am a commercial fish...</td>\n",
       "      <td>Just these foot prints and how obvious it was ...</td>\n",
       "      <td>One other witness, and he was fishing prior to...</td>\n",
       "      <td>I've only heard of one other story, from an ol...</td>\n",
       "      <td>Approximately 12:30 pm, partially coudy/sunny.</td>\n",
       "      <td>Lake front,creek spit, gravel and sand, alder ...</td>\n",
       "    </tr>\n",
       "    <tr>\n",
       "      <th>1</th>\n",
       "      <td>2000</td>\n",
       "      <td>Summer</td>\n",
       "      <td>June</td>\n",
       "      <td>Alaska</td>\n",
       "      <td>Cordova-McCarthy County</td>\n",
       "      <td>My hiking partner and I arrived late to the Ke...</td>\n",
       "      <td>I did hear what appeared to be grunting in the...</td>\n",
       "      <td>I was the only witness, there was one other in...</td>\n",
       "      <td>None</td>\n",
       "      <td>About 12:00 Midnight / full moon / clear / dim...</td>\n",
       "      <td>This sighting was located at approximately 1 t...</td>\n",
       "    </tr>\n",
       "    <tr>\n",
       "      <th>...</th>\n",
       "      <td>...</td>\n",
       "      <td>...</td>\n",
       "      <td>...</td>\n",
       "      <td>...</td>\n",
       "      <td>...</td>\n",
       "      <td>...</td>\n",
       "      <td>...</td>\n",
       "      <td>...</td>\n",
       "      <td>...</td>\n",
       "      <td>...</td>\n",
       "      <td>...</td>\n",
       "    </tr>\n",
       "    <tr>\n",
       "      <th>1</th>\n",
       "      <td>2001</td>\n",
       "      <td>Summer</td>\n",
       "      <td>July</td>\n",
       "      <td>Unknown</td>\n",
       "      <td>Unknown</td>\n",
       "      <td>Well I had camped in Cypress Hills Interprovin...</td>\n",
       "      <td>Just the tree formations in the clearcut, they...</td>\n",
       "      <td>Only my girlfriend and I, we were scanning the...</td>\n",
       "      <td>Haven't heard anything except for what's on yo...</td>\n",
       "      <td>It was about 9:20 p.m. or close to there just ...</td>\n",
       "      <td>Lots of pine and bush mix, maybe some hardwood...</td>\n",
       "    </tr>\n",
       "    <tr>\n",
       "      <th>1</th>\n",
       "      <td>1995</td>\n",
       "      <td>Summer</td>\n",
       "      <td>July</td>\n",
       "      <td>Unknown</td>\n",
       "      <td>Unknown</td>\n",
       "      <td>I came across your website from following a li...</td>\n",
       "      <td>If it was a Bigfoot I am thinking it could hav...</td>\n",
       "      <td>5 people, two witnesses.</td>\n",
       "      <td>None.</td>\n",
       "      <td>Dark,Night,rain,thunder,lightning.</td>\n",
       "      <td>Graveyard,Pine forest, Fields, Near river and ...</td>\n",
       "    </tr>\n",
       "    <tr>\n",
       "      <th>1</th>\n",
       "      <td>1992</td>\n",
       "      <td>Summer</td>\n",
       "      <td>August</td>\n",
       "      <td>Unknown</td>\n",
       "      <td>Unknown</td>\n",
       "      <td>This incident happened in the summer of 1992 i...</td>\n",
       "      <td>Like I said it was extremely quiet. I don't re...</td>\n",
       "      <td>Mother was present but did't see it and I didn...</td>\n",
       "      <td>Like I said the natives see or hear him in the...</td>\n",
       "      <td>2 P.M. Like I said sunny, 20 degrees.</td>\n",
       "      <td>Pine and Spruce Aspen Willow and swamp.</td>\n",
       "    </tr>\n",
       "    <tr>\n",
       "      <th>1</th>\n",
       "      <td>1995</td>\n",
       "      <td>Summer</td>\n",
       "      <td>Unknown</td>\n",
       "      <td>Unknown</td>\n",
       "      <td>Unknown</td>\n",
       "      <td>I was about 14 years old, when me and my frien...</td>\n",
       "      <td>no</td>\n",
       "      <td>Yes my friend Amanda</td>\n",
       "      <td>yes, there have been many bigfoot sightings in...</td>\n",
       "      <td>daytime</td>\n",
       "      <td>Unknown</td>\n",
       "    </tr>\n",
       "    <tr>\n",
       "      <th>1</th>\n",
       "      <td>1978</td>\n",
       "      <td>Summer</td>\n",
       "      <td>August</td>\n",
       "      <td>Unknown</td>\n",
       "      <td>Unknown</td>\n",
       "      <td>The sighting occurred along the Yukon River - ...</td>\n",
       "      <td>Description in my detailed account of the sigh...</td>\n",
       "      <td>Just myself.</td>\n",
       "      <td>No.</td>\n",
       "      <td>Early morning around 8am</td>\n",
       "      <td>Grassy meadow with a large stand of aspen and ...</td>\n",
       "    </tr>\n",
       "  </tbody>\n",
       "</table>\n",
       "<p>4816 rows × 11 columns</p>\n",
       "</div>"
      ],
      "text/plain": [
       "    YEAR  SEASON      MONTH    STATE                   COUNTY  \\\n",
       "1   2004  Winter   February   Alaska         Anchorage County   \n",
       "1   2003  Winter   December   Alaska         Anchorage County   \n",
       "1   1998    Fall  September   Alaska            Bethel County   \n",
       "1   2004  Summer       July   Alaska       Bristol Bay County   \n",
       "1   2000  Summer       June   Alaska  Cordova-McCarthy County   \n",
       "..   ...     ...        ...      ...                      ...   \n",
       "1   2001  Summer       July  Unknown                  Unknown   \n",
       "1   1995  Summer       July  Unknown                  Unknown   \n",
       "1   1992  Summer     August  Unknown                  Unknown   \n",
       "1   1995  Summer    Unknown  Unknown                  Unknown   \n",
       "1   1978  Summer     August  Unknown                  Unknown   \n",
       "\n",
       "                                             OBSERVED  \\\n",
       "1   I and two of my friends were bored one night s...   \n",
       "1   Me and a couple of friends had been bored, whe...   \n",
       "1   My hunting buddy and I were sitting on a ridge...   \n",
       "1   To whom it may concern, I am a commercial fish...   \n",
       "1   My hiking partner and I arrived late to the Ke...   \n",
       "..                                                ...   \n",
       "1   Well I had camped in Cypress Hills Interprovin...   \n",
       "1   I came across your website from following a li...   \n",
       "1   This incident happened in the summer of 1992 i...   \n",
       "1   I was about 14 years old, when me and my frien...   \n",
       "1   The sighting occurred along the Yukon River - ...   \n",
       "\n",
       "                                         ALSO NOTICED  \\\n",
       "1   Some tracks in the snow, and a clearing in the...   \n",
       "1   We smelled of colonge and after shave, and one...   \n",
       "1                                    nothing unusual    \n",
       "1   Just these foot prints and how obvious it was ...   \n",
       "1   I did hear what appeared to be grunting in the...   \n",
       "..                                                ...   \n",
       "1   Just the tree formations in the clearcut, they...   \n",
       "1   If it was a Bigfoot I am thinking it could hav...   \n",
       "1   Like I said it was extremely quiet. I don't re...   \n",
       "1                                                  no   \n",
       "1   Description in my detailed account of the sigh...   \n",
       "\n",
       "                                      OTHER WITNESSES  \\\n",
       "1   My two friends were snowmachining behind me bu...   \n",
       "1   4. Me, w-man, warren and sean. We were at my h...   \n",
       "1   Scouting for caribou with high quality binocul...   \n",
       "1   One other witness, and he was fishing prior to...   \n",
       "1   I was the only witness, there was one other in...   \n",
       "..                                                ...   \n",
       "1   Only my girlfriend and I, we were scanning the...   \n",
       "1                            5 people, two witnesses.   \n",
       "1   Mother was present but did't see it and I didn...   \n",
       "1                                Yes my friend Amanda   \n",
       "1                                        Just myself.   \n",
       "\n",
       "                                        OTHER STORIES  \\\n",
       "1   I have not heard of any other incidents in Anc...   \n",
       "1                                                  no   \n",
       "1                                             Unknown   \n",
       "1   I've only heard of one other story, from an ol...   \n",
       "1                                                None   \n",
       "..                                                ...   \n",
       "1   Haven't heard anything except for what's on yo...   \n",
       "1                                               None.   \n",
       "1   Like I said the natives see or hear him in the...   \n",
       "1   yes, there have been many bigfoot sightings in...   \n",
       "1                                                 No.   \n",
       "\n",
       "                                  TIME AND CONDITIONS  \\\n",
       "1   Middle of the night. The only light was the he...   \n",
       "1   Started at 11, ended at about 3-3:30. Weather ...   \n",
       "1                                             Unknown   \n",
       "1      Approximately 12:30 pm, partially coudy/sunny.   \n",
       "1   About 12:00 Midnight / full moon / clear / dim...   \n",
       "..                                                ...   \n",
       "1   It was about 9:20 p.m. or close to there just ...   \n",
       "1                  Dark,Night,rain,thunder,lightning.   \n",
       "1               2 P.M. Like I said sunny, 20 degrees.   \n",
       "1                                             daytime   \n",
       "1                            Early morning around 8am   \n",
       "\n",
       "                                          ENVIRONMENT  \n",
       "1   In the middle of the woods, in a clearing cove...  \n",
       "1   A pine forest, with a bog or swamp on the righ...  \n",
       "1   Call Iliamna Air taxi for lat & Long of Long L...  \n",
       "1   Lake front,creek spit, gravel and sand, alder ...  \n",
       "1   This sighting was located at approximately 1 t...  \n",
       "..                                                ...  \n",
       "1   Lots of pine and bush mix, maybe some hardwood...  \n",
       "1   Graveyard,Pine forest, Fields, Near river and ...  \n",
       "1             Pine and Spruce Aspen Willow and swamp.  \n",
       "1                                             Unknown  \n",
       "1   Grassy meadow with a large stand of aspen and ...  \n",
       "\n",
       "[4816 rows x 11 columns]"
      ]
     },
     "execution_count": 37,
     "metadata": {},
     "output_type": "execute_result"
    }
   ],
   "source": [
    "# trim away messy, unnecessary columns\n",
    "subset = ['YEAR', 'SEASON', 'MONTH', 'STATE', 'COUNTY', 'OBSERVED', 'ALSO NOTICED',\n",
    "       'OTHER WITNESSES', 'OTHER STORIES', 'TIME AND CONDITIONS',\n",
    "       'ENVIRONMENT']\n",
    "# only columns with useful data\n",
    "full_ss = full_df[subset]\n",
    "# only row 1 for odd exceptions where there was more than one row while incrementing\n",
    "full_ss = full_ss.loc[1]\n",
    "# filling all NaNs with 'Unknown'\n",
    "full_ss = full_ss.fillna('Unknown')\n",
    "# pretty clean subset\n",
    "full_ss"
   ]
  },
  {
   "cell_type": "code",
   "execution_count": 38,
   "metadata": {},
   "outputs": [],
   "source": [
    "bigfoot = full_ss"
   ]
  },
  {
   "cell_type": "code",
   "execution_count": 39,
   "metadata": {},
   "outputs": [
    {
     "data": {
      "text/html": [
       "<div>\n",
       "<style scoped>\n",
       "    .dataframe tbody tr th:only-of-type {\n",
       "        vertical-align: middle;\n",
       "    }\n",
       "\n",
       "    .dataframe tbody tr th {\n",
       "        vertical-align: top;\n",
       "    }\n",
       "\n",
       "    .dataframe thead th {\n",
       "        text-align: right;\n",
       "    }\n",
       "</style>\n",
       "<table border=\"1\" class=\"dataframe\">\n",
       "  <thead>\n",
       "    <tr style=\"text-align: right;\">\n",
       "      <th></th>\n",
       "      <th>YEAR</th>\n",
       "      <th>SEASON</th>\n",
       "      <th>MONTH</th>\n",
       "      <th>STATE</th>\n",
       "      <th>COUNTY</th>\n",
       "      <th>OBSERVED</th>\n",
       "      <th>ALSO NOTICED</th>\n",
       "      <th>OTHER WITNESSES</th>\n",
       "      <th>OTHER STORIES</th>\n",
       "      <th>TIME AND CONDITIONS</th>\n",
       "      <th>ENVIRONMENT</th>\n",
       "    </tr>\n",
       "  </thead>\n",
       "  <tbody>\n",
       "    <tr>\n",
       "      <th>1</th>\n",
       "      <td>2004</td>\n",
       "      <td>Winter</td>\n",
       "      <td>February</td>\n",
       "      <td>Alaska</td>\n",
       "      <td>Anchorage County</td>\n",
       "      <td>I and two of my friends were bored one night s...</td>\n",
       "      <td>Some tracks in the snow, and a clearing in the...</td>\n",
       "      <td>My two friends were snowmachining behind me bu...</td>\n",
       "      <td>I have not heard of any other incidents in Anc...</td>\n",
       "      <td>Middle of the night. The only light was the he...</td>\n",
       "      <td>In the middle of the woods, in a clearing cove...</td>\n",
       "    </tr>\n",
       "    <tr>\n",
       "      <th>1</th>\n",
       "      <td>2003</td>\n",
       "      <td>Winter</td>\n",
       "      <td>December</td>\n",
       "      <td>Alaska</td>\n",
       "      <td>Anchorage County</td>\n",
       "      <td>Me and a couple of friends had been bored, whe...</td>\n",
       "      <td>We smelled of colonge and after shave, and one...</td>\n",
       "      <td>4. Me, w-man, warren and sean. We were at my h...</td>\n",
       "      <td>no</td>\n",
       "      <td>Started at 11, ended at about 3-3:30. Weather ...</td>\n",
       "      <td>A pine forest, with a bog or swamp on the righ...</td>\n",
       "    </tr>\n",
       "    <tr>\n",
       "      <th>1</th>\n",
       "      <td>1998</td>\n",
       "      <td>Fall</td>\n",
       "      <td>September</td>\n",
       "      <td>Alaska</td>\n",
       "      <td>Bethel County</td>\n",
       "      <td>My hunting buddy and I were sitting on a ridge...</td>\n",
       "      <td>nothing unusual</td>\n",
       "      <td>Scouting for caribou with high quality binocul...</td>\n",
       "      <td>Unknown</td>\n",
       "      <td>Unknown</td>\n",
       "      <td>Call Iliamna Air taxi for lat &amp; Long of Long L...</td>\n",
       "    </tr>\n",
       "    <tr>\n",
       "      <th>1</th>\n",
       "      <td>2004</td>\n",
       "      <td>Summer</td>\n",
       "      <td>July</td>\n",
       "      <td>Alaska</td>\n",
       "      <td>Bristol Bay County</td>\n",
       "      <td>To whom it may concern, I am a commercial fish...</td>\n",
       "      <td>Just these foot prints and how obvious it was ...</td>\n",
       "      <td>One other witness, and he was fishing prior to...</td>\n",
       "      <td>I've only heard of one other story, from an ol...</td>\n",
       "      <td>Approximately 12:30 pm, partially coudy/sunny.</td>\n",
       "      <td>Lake front,creek spit, gravel and sand, alder ...</td>\n",
       "    </tr>\n",
       "    <tr>\n",
       "      <th>1</th>\n",
       "      <td>2000</td>\n",
       "      <td>Summer</td>\n",
       "      <td>June</td>\n",
       "      <td>Alaska</td>\n",
       "      <td>Cordova-McCarthy County</td>\n",
       "      <td>My hiking partner and I arrived late to the Ke...</td>\n",
       "      <td>I did hear what appeared to be grunting in the...</td>\n",
       "      <td>I was the only witness, there was one other in...</td>\n",
       "      <td>None</td>\n",
       "      <td>About 12:00 Midnight / full moon / clear / dim...</td>\n",
       "      <td>This sighting was located at approximately 1 t...</td>\n",
       "    </tr>\n",
       "    <tr>\n",
       "      <th>...</th>\n",
       "      <td>...</td>\n",
       "      <td>...</td>\n",
       "      <td>...</td>\n",
       "      <td>...</td>\n",
       "      <td>...</td>\n",
       "      <td>...</td>\n",
       "      <td>...</td>\n",
       "      <td>...</td>\n",
       "      <td>...</td>\n",
       "      <td>...</td>\n",
       "      <td>...</td>\n",
       "    </tr>\n",
       "    <tr>\n",
       "      <th>1</th>\n",
       "      <td>2001</td>\n",
       "      <td>Summer</td>\n",
       "      <td>July</td>\n",
       "      <td>Unknown</td>\n",
       "      <td>Unknown</td>\n",
       "      <td>Well I had camped in Cypress Hills Interprovin...</td>\n",
       "      <td>Just the tree formations in the clearcut, they...</td>\n",
       "      <td>Only my girlfriend and I, we were scanning the...</td>\n",
       "      <td>Haven't heard anything except for what's on yo...</td>\n",
       "      <td>It was about 9:20 p.m. or close to there just ...</td>\n",
       "      <td>Lots of pine and bush mix, maybe some hardwood...</td>\n",
       "    </tr>\n",
       "    <tr>\n",
       "      <th>1</th>\n",
       "      <td>1995</td>\n",
       "      <td>Summer</td>\n",
       "      <td>July</td>\n",
       "      <td>Unknown</td>\n",
       "      <td>Unknown</td>\n",
       "      <td>I came across your website from following a li...</td>\n",
       "      <td>If it was a Bigfoot I am thinking it could hav...</td>\n",
       "      <td>5 people, two witnesses.</td>\n",
       "      <td>None.</td>\n",
       "      <td>Dark,Night,rain,thunder,lightning.</td>\n",
       "      <td>Graveyard,Pine forest, Fields, Near river and ...</td>\n",
       "    </tr>\n",
       "    <tr>\n",
       "      <th>1</th>\n",
       "      <td>1992</td>\n",
       "      <td>Summer</td>\n",
       "      <td>August</td>\n",
       "      <td>Unknown</td>\n",
       "      <td>Unknown</td>\n",
       "      <td>This incident happened in the summer of 1992 i...</td>\n",
       "      <td>Like I said it was extremely quiet. I don't re...</td>\n",
       "      <td>Mother was present but did't see it and I didn...</td>\n",
       "      <td>Like I said the natives see or hear him in the...</td>\n",
       "      <td>2 P.M. Like I said sunny, 20 degrees.</td>\n",
       "      <td>Pine and Spruce Aspen Willow and swamp.</td>\n",
       "    </tr>\n",
       "    <tr>\n",
       "      <th>1</th>\n",
       "      <td>1995</td>\n",
       "      <td>Summer</td>\n",
       "      <td>Unknown</td>\n",
       "      <td>Unknown</td>\n",
       "      <td>Unknown</td>\n",
       "      <td>I was about 14 years old, when me and my frien...</td>\n",
       "      <td>no</td>\n",
       "      <td>Yes my friend Amanda</td>\n",
       "      <td>yes, there have been many bigfoot sightings in...</td>\n",
       "      <td>daytime</td>\n",
       "      <td>Unknown</td>\n",
       "    </tr>\n",
       "    <tr>\n",
       "      <th>1</th>\n",
       "      <td>1978</td>\n",
       "      <td>Summer</td>\n",
       "      <td>August</td>\n",
       "      <td>Unknown</td>\n",
       "      <td>Unknown</td>\n",
       "      <td>The sighting occurred along the Yukon River - ...</td>\n",
       "      <td>Description in my detailed account of the sigh...</td>\n",
       "      <td>Just myself.</td>\n",
       "      <td>No.</td>\n",
       "      <td>Early morning around 8am</td>\n",
       "      <td>Grassy meadow with a large stand of aspen and ...</td>\n",
       "    </tr>\n",
       "  </tbody>\n",
       "</table>\n",
       "<p>4816 rows × 11 columns</p>\n",
       "</div>"
      ],
      "text/plain": [
       "    YEAR  SEASON      MONTH    STATE                   COUNTY  \\\n",
       "1   2004  Winter   February   Alaska         Anchorage County   \n",
       "1   2003  Winter   December   Alaska         Anchorage County   \n",
       "1   1998    Fall  September   Alaska            Bethel County   \n",
       "1   2004  Summer       July   Alaska       Bristol Bay County   \n",
       "1   2000  Summer       June   Alaska  Cordova-McCarthy County   \n",
       "..   ...     ...        ...      ...                      ...   \n",
       "1   2001  Summer       July  Unknown                  Unknown   \n",
       "1   1995  Summer       July  Unknown                  Unknown   \n",
       "1   1992  Summer     August  Unknown                  Unknown   \n",
       "1   1995  Summer    Unknown  Unknown                  Unknown   \n",
       "1   1978  Summer     August  Unknown                  Unknown   \n",
       "\n",
       "                                             OBSERVED  \\\n",
       "1   I and two of my friends were bored one night s...   \n",
       "1   Me and a couple of friends had been bored, whe...   \n",
       "1   My hunting buddy and I were sitting on a ridge...   \n",
       "1   To whom it may concern, I am a commercial fish...   \n",
       "1   My hiking partner and I arrived late to the Ke...   \n",
       "..                                                ...   \n",
       "1   Well I had camped in Cypress Hills Interprovin...   \n",
       "1   I came across your website from following a li...   \n",
       "1   This incident happened in the summer of 1992 i...   \n",
       "1   I was about 14 years old, when me and my frien...   \n",
       "1   The sighting occurred along the Yukon River - ...   \n",
       "\n",
       "                                         ALSO NOTICED  \\\n",
       "1   Some tracks in the snow, and a clearing in the...   \n",
       "1   We smelled of colonge and after shave, and one...   \n",
       "1                                    nothing unusual    \n",
       "1   Just these foot prints and how obvious it was ...   \n",
       "1   I did hear what appeared to be grunting in the...   \n",
       "..                                                ...   \n",
       "1   Just the tree formations in the clearcut, they...   \n",
       "1   If it was a Bigfoot I am thinking it could hav...   \n",
       "1   Like I said it was extremely quiet. I don't re...   \n",
       "1                                                  no   \n",
       "1   Description in my detailed account of the sigh...   \n",
       "\n",
       "                                      OTHER WITNESSES  \\\n",
       "1   My two friends were snowmachining behind me bu...   \n",
       "1   4. Me, w-man, warren and sean. We were at my h...   \n",
       "1   Scouting for caribou with high quality binocul...   \n",
       "1   One other witness, and he was fishing prior to...   \n",
       "1   I was the only witness, there was one other in...   \n",
       "..                                                ...   \n",
       "1   Only my girlfriend and I, we were scanning the...   \n",
       "1                            5 people, two witnesses.   \n",
       "1   Mother was present but did't see it and I didn...   \n",
       "1                                Yes my friend Amanda   \n",
       "1                                        Just myself.   \n",
       "\n",
       "                                        OTHER STORIES  \\\n",
       "1   I have not heard of any other incidents in Anc...   \n",
       "1                                                  no   \n",
       "1                                             Unknown   \n",
       "1   I've only heard of one other story, from an ol...   \n",
       "1                                                None   \n",
       "..                                                ...   \n",
       "1   Haven't heard anything except for what's on yo...   \n",
       "1                                               None.   \n",
       "1   Like I said the natives see or hear him in the...   \n",
       "1   yes, there have been many bigfoot sightings in...   \n",
       "1                                                 No.   \n",
       "\n",
       "                                  TIME AND CONDITIONS  \\\n",
       "1   Middle of the night. The only light was the he...   \n",
       "1   Started at 11, ended at about 3-3:30. Weather ...   \n",
       "1                                             Unknown   \n",
       "1      Approximately 12:30 pm, partially coudy/sunny.   \n",
       "1   About 12:00 Midnight / full moon / clear / dim...   \n",
       "..                                                ...   \n",
       "1   It was about 9:20 p.m. or close to there just ...   \n",
       "1                  Dark,Night,rain,thunder,lightning.   \n",
       "1               2 P.M. Like I said sunny, 20 degrees.   \n",
       "1                                             daytime   \n",
       "1                            Early morning around 8am   \n",
       "\n",
       "                                          ENVIRONMENT  \n",
       "1   In the middle of the woods, in a clearing cove...  \n",
       "1   A pine forest, with a bog or swamp on the righ...  \n",
       "1   Call Iliamna Air taxi for lat & Long of Long L...  \n",
       "1   Lake front,creek spit, gravel and sand, alder ...  \n",
       "1   This sighting was located at approximately 1 t...  \n",
       "..                                                ...  \n",
       "1   Lots of pine and bush mix, maybe some hardwood...  \n",
       "1   Graveyard,Pine forest, Fields, Near river and ...  \n",
       "1             Pine and Spruce Aspen Willow and swamp.  \n",
       "1                                             Unknown  \n",
       "1   Grassy meadow with a large stand of aspen and ...  \n",
       "\n",
       "[4816 rows x 11 columns]"
      ]
     },
     "execution_count": 39,
     "metadata": {},
     "output_type": "execute_result"
    }
   ],
   "source": [
    "# organized bigfoot df, still needs a bit of cleaning before ready for classification\n",
    "bigfoot"
   ]
  },
  {
   "cell_type": "code",
   "execution_count": 15,
   "metadata": {},
   "outputs": [],
   "source": [
    "# save to file to not have to re-do\n",
    "# bigfoot.to_csv('bigfoot.csv', index=False)"
   ]
  },
  {
   "cell_type": "markdown",
   "metadata": {},
   "source": [
    "## Working with UFO data"
   ]
  },
  {
   "cell_type": "code",
   "execution_count": 222,
   "metadata": {},
   "outputs": [],
   "source": [
    "# ufo_first100records\n",
    "ufo_records = []\n",
    "with open('data/ufo_first100records.json') as f:\n",
    "    for i in f:\n",
    "        ufo_records.append(json.loads(i))"
   ]
  },
  {
   "cell_type": "code",
   "execution_count": 41,
   "metadata": {},
   "outputs": [],
   "source": [
    "# full ufodata\n",
    "full_ufo_records = []\n",
    "with open('data/ufodata.json') as f:\n",
    "    for i in f:\n",
    "        full_ufo_records.append(json.loads(i))"
   ]
  },
  {
   "cell_type": "markdown",
   "metadata": {},
   "source": [
    "## Final function for building ufo dataframe out of webscraped json"
   ]
  },
  {
   "cell_type": "code",
   "execution_count": 42,
   "metadata": {},
   "outputs": [],
   "source": [
    "# regular expression module allows ability to search for text between two strings more finely\n",
    "import re\n",
    "\n",
    "# final function to convert to DataFrame\n",
    "def ufo_convert_to_dataframe(ufo_records):\n",
    "    # instantiate df to increment outside loop\n",
    "    ufo_df_columns = ['Occurred','Location','Shape','Duration','Observed','NUFORC Note']\n",
    "    ufo_df = pd.DataFrame(columns=ufo_df_columns)\n",
    "    \n",
    "    for ufo_record in ufo_records:\n",
    "        ufo_soup = BeautifulSoup(ufo_record['html'], 'html.parser')\n",
    "\n",
    "        my_ufo_text_lst = []\n",
    "\n",
    "        for td in ufo_soup.find_all(\"td\"):\n",
    "        #     print(td.text)\n",
    "            my_ufo_text_lst.append(td.text)\n",
    "        \n",
    "        if len(my_ufo_text_lst) != 2:\n",
    "            continue\n",
    "        \n",
    "        str1 = my_ufo_text_lst[0]\n",
    "        str2 = my_ufo_text_lst[1]\n",
    "        \n",
    "        # occurred column\n",
    "        occurred = re.search('Occurred : (.*)Entered', str1)\n",
    "        # check for NoneType\n",
    "        if occurred == None:\n",
    "            occurred = 'Unknown'\n",
    "        else:\n",
    "            occurred = occurred.group(1).strip('( ')\n",
    "\n",
    "        # location column\n",
    "        location = re.search('Location:(.*)Shape', str1)\n",
    "        if location == None:\n",
    "            location = 'Unknown'\n",
    "        else:\n",
    "            location = location.group(1).strip('( ')\n",
    "        \n",
    "        # shape column\n",
    "        shape = re.search('Shape:(.*)Duration', str1)\n",
    "        if shape == None:\n",
    "            shape = 'Unknown'\n",
    "        else:\n",
    "            shape = shape.group(1).strip('( ')\n",
    "        \n",
    "        # duration column\n",
    "        duration = re.search('Duration:(.*)', str1)\n",
    "        if duration == None:\n",
    "            duration = 'Unknown'\n",
    "        else:\n",
    "            duration = duration.group(1).strip('( ')\n",
    "        \n",
    "        # observed column\n",
    "        observed = re.search('(.*)NUFORC', str2)\n",
    "        if observed == None:\n",
    "            observed = 'Unknown'\n",
    "        else:\n",
    "            observed = observed.group(1).strip('( ')\n",
    "        \n",
    "        # nuforc_note column\n",
    "        nuforc_note = re.search('NUFORC Note:(.*)  ', str2)\n",
    "        if nuforc_note == None:\n",
    "            nuforc_note = 'Unknown'\n",
    "        else:\n",
    "            nuforc_note = nuforc_note.group(1).strip('( ')\n",
    "        \n",
    "        temp_lst = [occurred, location, shape, duration, observed, nuforc_note]\n",
    "        temp_df = pd.DataFrame([temp_lst],columns=ufo_df_columns)\n",
    "\n",
    "        ufo_df = pd.concat([ufo_df,temp_df])\n",
    "    \n",
    "    return ufo_df"
   ]
  },
  {
   "cell_type": "code",
   "execution_count": 44,
   "metadata": {},
   "outputs": [],
   "source": [
    "# ufo_df is 100 first records\n",
    "# ufo_df = ufo_convert_to_dataframe(ufo_records)\n",
    "# ufo_df"
   ]
  },
  {
   "cell_type": "code",
   "execution_count": 46,
   "metadata": {},
   "outputs": [],
   "source": [
    "# convert ufo data to df\n",
    "# takes about 15-20 minutes\n",
    "full_ufo_df = ufo_convert_to_dataframe(full_ufo_records)"
   ]
  },
  {
   "cell_type": "code",
   "execution_count": 49,
   "metadata": {},
   "outputs": [],
   "source": [
    "# trimming away all the 'Observed' rows with 'Unknown' for value\n",
    "ufo = full_ufo_df[full_ufo_df['Observed']!= 'Unknown']"
   ]
  },
  {
   "cell_type": "code",
   "execution_count": 224,
   "metadata": {},
   "outputs": [
    {
     "data": {
      "text/plain": [
       "(45272, 6)"
      ]
     },
     "execution_count": 224,
     "metadata": {},
     "output_type": "execute_result"
    }
   ],
   "source": [
    "ufo.shape"
   ]
  },
  {
   "cell_type": "code",
   "execution_count": 14,
   "metadata": {},
   "outputs": [],
   "source": [
    "# save to file to not have to re-do\n",
    "# ufo.to_csv('ufo.csv', index=False)"
   ]
  },
  {
   "cell_type": "markdown",
   "metadata": {},
   "source": [
    "## Cleaned, raw dataframes for ufo and bigfoot\n",
    "Steps left to do:\n",
    "\n",
    "* Drop nans in 'OBSERVED'/'Observed' columns\n",
    "\n",
    "* Deal with class imbalance\n",
    "\n",
    "* Assign labels\n",
    "\n",
    "* Match column names\n",
    "\n",
    "* Merge bigfoot and ufo dfs into one df\n",
    "\n",
    "* Save to csv"
   ]
  },
  {
   "cell_type": "code",
   "execution_count": 51,
   "metadata": {},
   "outputs": [],
   "source": [
    "# start here to not redo previous processing\n",
    "ufo = pd.read_csv('ufo.csv')\n",
    "bigfoot = pd.read_csv('bigfoot.csv')"
   ]
  },
  {
   "cell_type": "code",
   "execution_count": 52,
   "metadata": {},
   "outputs": [],
   "source": [
    "# dropping all nans in 'OBSERVED'/'Observed' column\n",
    "bigfoot = bigfoot.dropna(subset=['OBSERVED'])\n",
    "ufo = ufo.dropna(subset=['Observed'])"
   ]
  },
  {
   "cell_type": "code",
   "execution_count": 220,
   "metadata": {},
   "outputs": [
    {
     "data": {
      "text/plain": [
       "Occurred         12\n",
       "Location          0\n",
       "Shape          1315\n",
       "Duration       1960\n",
       "Observed          0\n",
       "NUFORC Note     209\n",
       "dtype: int64"
      ]
     },
     "execution_count": 220,
     "metadata": {},
     "output_type": "execute_result"
    }
   ],
   "source": [
    "# checking that there are no nans in 'Observed' column\n",
    "ufo.isna().sum()"
   ]
  },
  {
   "cell_type": "code",
   "execution_count": 221,
   "metadata": {},
   "outputs": [
    {
     "data": {
      "text/plain": [
       "YEAR                    0\n",
       "SEASON                  0\n",
       "MONTH                   0\n",
       "STATE                   0\n",
       "COUNTY                  0\n",
       "OBSERVED                0\n",
       "ALSO NOTICED           23\n",
       "OTHER WITNESSES         3\n",
       "OTHER STORIES          11\n",
       "TIME AND CONDITIONS     0\n",
       "ENVIRONMENT             3\n",
       "Label                   0\n",
       "dtype: int64"
      ]
     },
     "execution_count": 221,
     "metadata": {},
     "output_type": "execute_result"
    }
   ],
   "source": [
    "# in bigfoot no nans in 'OBSERVED'\n",
    "bigfoot.isna().sum()"
   ]
  },
  {
   "cell_type": "code",
   "execution_count": 56,
   "metadata": {},
   "outputs": [
    {
     "data": {
      "text/plain": [
       "Occurred         12\n",
       "Location          0\n",
       "Shape          1315\n",
       "Duration       1960\n",
       "Observed          0\n",
       "NUFORC Note     209\n",
       "dtype: int64"
      ]
     },
     "execution_count": 56,
     "metadata": {},
     "output_type": "execute_result"
    }
   ],
   "source": [
    "# checking that there are no nans in 'Observed' column\n",
    "ufo.isna().sum()"
   ]
  },
  {
   "cell_type": "code",
   "execution_count": 222,
   "metadata": {},
   "outputs": [
    {
     "name": "stdout",
     "output_type": "stream",
     "text": [
      "(4809, 12)\n",
      "(45272, 6)\n"
     ]
    }
   ],
   "source": [
    "# comparing shapes\n",
    "print(bigfoot.shape)\n",
    "print(ufo.shape)"
   ]
  },
  {
   "cell_type": "markdown",
   "metadata": {},
   "source": [
    "## Undersampling to deal with imbalanced classes"
   ]
  },
  {
   "cell_type": "code",
   "execution_count": 57,
   "metadata": {},
   "outputs": [],
   "source": [
    "# undersampling to match the number of records in bigfoot df\n",
    "ufo_sample = ufo.sample(n=4809, replace=False, random_state=42, axis='index').reset_index(drop=True)"
   ]
  },
  {
   "cell_type": "markdown",
   "metadata": {},
   "source": [
    "## Final prep steps for ufo and bigfoot data before classification"
   ]
  },
  {
   "cell_type": "code",
   "execution_count": 58,
   "metadata": {},
   "outputs": [],
   "source": [
    "# assigning 1 for ufo labels\n",
    "ufo_sample['Label'] = 1"
   ]
  },
  {
   "cell_type": "code",
   "execution_count": 59,
   "metadata": {},
   "outputs": [],
   "source": [
    "# grabbing subset of two columns needed\n",
    "ufo_observed = ufo_sample[['Observed', 'Label']]"
   ]
  },
  {
   "cell_type": "code",
   "execution_count": 60,
   "metadata": {},
   "outputs": [
    {
     "data": {
      "text/html": [
       "<div>\n",
       "<style scoped>\n",
       "    .dataframe tbody tr th:only-of-type {\n",
       "        vertical-align: middle;\n",
       "    }\n",
       "\n",
       "    .dataframe tbody tr th {\n",
       "        vertical-align: top;\n",
       "    }\n",
       "\n",
       "    .dataframe thead th {\n",
       "        text-align: right;\n",
       "    }\n",
       "</style>\n",
       "<table border=\"1\" class=\"dataframe\">\n",
       "  <thead>\n",
       "    <tr style=\"text-align: right;\">\n",
       "      <th></th>\n",
       "      <th>Observed</th>\n",
       "      <th>Label</th>\n",
       "    </tr>\n",
       "  </thead>\n",
       "  <tbody>\n",
       "    <tr>\n",
       "      <th>0</th>\n",
       "      <td>Green moving lightDriving west down 80. SWW si...</td>\n",
       "      <td>1</td>\n",
       "    </tr>\n",
       "    <tr>\n",
       "      <th>1</th>\n",
       "      <td>Large fireball moving slowly,  horizonally,  v...</td>\n",
       "      <td>1</td>\n",
       "    </tr>\n",
       "    <tr>\n",
       "      <th>2</th>\n",
       "      <td>Orange dim dark lights 1 on each side.  Invisi...</td>\n",
       "      <td>1</td>\n",
       "    </tr>\n",
       "    <tr>\n",
       "      <th>3</th>\n",
       "      <td>VERY BRIGHT BLUE/WHITE SPHERE SIGHTED TEMPE,AZ...</td>\n",
       "      <td>1</td>\n",
       "    </tr>\n",
       "    <tr>\n",
       "      <th>4</th>\n",
       "      <td>Ball of flashing, sparkling multicolored light...</td>\n",
       "      <td>1</td>\n",
       "    </tr>\n",
       "    <tr>\n",
       "      <th>...</th>\n",
       "      <td>...</td>\n",
       "      <td>...</td>\n",
       "    </tr>\n",
       "    <tr>\n",
       "      <th>4804</th>\n",
       "      <td>I had went to my back porch to make sure the d...</td>\n",
       "      <td>1</td>\n",
       "    </tr>\n",
       "    <tr>\n",
       "      <th>4805</th>\n",
       "      <td>bright circular light shining down toward the ...</td>\n",
       "      <td>1</td>\n",
       "    </tr>\n",
       "    <tr>\n",
       "      <th>4806</th>\n",
       "      <td>Triangular object cruzes north slowely along t...</td>\n",
       "      <td>1</td>\n",
       "    </tr>\n",
       "    <tr>\n",
       "      <th>4807</th>\n",
       "      <td>The triangle shape with no sound.At the time i...</td>\n",
       "      <td>1</td>\n",
       "    </tr>\n",
       "    <tr>\n",
       "      <th>4808</th>\n",
       "      <td>3 objects sighted in Boca Raton.3 separate obj...</td>\n",
       "      <td>1</td>\n",
       "    </tr>\n",
       "  </tbody>\n",
       "</table>\n",
       "<p>4809 rows × 2 columns</p>\n",
       "</div>"
      ],
      "text/plain": [
       "                                               Observed  Label\n",
       "0     Green moving lightDriving west down 80. SWW si...      1\n",
       "1     Large fireball moving slowly,  horizonally,  v...      1\n",
       "2     Orange dim dark lights 1 on each side.  Invisi...      1\n",
       "3     VERY BRIGHT BLUE/WHITE SPHERE SIGHTED TEMPE,AZ...      1\n",
       "4     Ball of flashing, sparkling multicolored light...      1\n",
       "...                                                 ...    ...\n",
       "4804  I had went to my back porch to make sure the d...      1\n",
       "4805  bright circular light shining down toward the ...      1\n",
       "4806  Triangular object cruzes north slowely along t...      1\n",
       "4807  The triangle shape with no sound.At the time i...      1\n",
       "4808  3 objects sighted in Boca Raton.3 separate obj...      1\n",
       "\n",
       "[4809 rows x 2 columns]"
      ]
     },
     "execution_count": 60,
     "metadata": {},
     "output_type": "execute_result"
    }
   ],
   "source": [
    "# final df for ufo data\n",
    "ufo_observed"
   ]
  },
  {
   "cell_type": "code",
   "execution_count": 61,
   "metadata": {},
   "outputs": [],
   "source": [
    "# assigning bigfoot label as 0\n",
    "bigfoot['Label'] = 0"
   ]
  },
  {
   "cell_type": "code",
   "execution_count": 63,
   "metadata": {},
   "outputs": [],
   "source": [
    "# grabbing the two columns needed\n",
    "bigfoot_observed = bigfoot[['OBSERVED', 'Label']]"
   ]
  },
  {
   "cell_type": "code",
   "execution_count": 64,
   "metadata": {},
   "outputs": [],
   "source": [
    "# renaming bigfoot df column to match ufo df\n",
    "bigfoot_observed = bigfoot_observed.rename(columns={\"OBSERVED\": \"Observed\", \"Label\": \"Label\"})"
   ]
  },
  {
   "cell_type": "code",
   "execution_count": 65,
   "metadata": {},
   "outputs": [
    {
     "data": {
      "text/html": [
       "<div>\n",
       "<style scoped>\n",
       "    .dataframe tbody tr th:only-of-type {\n",
       "        vertical-align: middle;\n",
       "    }\n",
       "\n",
       "    .dataframe tbody tr th {\n",
       "        vertical-align: top;\n",
       "    }\n",
       "\n",
       "    .dataframe thead th {\n",
       "        text-align: right;\n",
       "    }\n",
       "</style>\n",
       "<table border=\"1\" class=\"dataframe\">\n",
       "  <thead>\n",
       "    <tr style=\"text-align: right;\">\n",
       "      <th></th>\n",
       "      <th>Observed</th>\n",
       "      <th>Label</th>\n",
       "    </tr>\n",
       "  </thead>\n",
       "  <tbody>\n",
       "    <tr>\n",
       "      <th>0</th>\n",
       "      <td>I and two of my friends were bored one night s...</td>\n",
       "      <td>0</td>\n",
       "    </tr>\n",
       "    <tr>\n",
       "      <th>1</th>\n",
       "      <td>Me and a couple of friends had been bored, whe...</td>\n",
       "      <td>0</td>\n",
       "    </tr>\n",
       "    <tr>\n",
       "      <th>2</th>\n",
       "      <td>My hunting buddy and I were sitting on a ridge...</td>\n",
       "      <td>0</td>\n",
       "    </tr>\n",
       "    <tr>\n",
       "      <th>3</th>\n",
       "      <td>To whom it may concern, I am a commercial fish...</td>\n",
       "      <td>0</td>\n",
       "    </tr>\n",
       "    <tr>\n",
       "      <th>4</th>\n",
       "      <td>My hiking partner and I arrived late to the Ke...</td>\n",
       "      <td>0</td>\n",
       "    </tr>\n",
       "    <tr>\n",
       "      <th>...</th>\n",
       "      <td>...</td>\n",
       "      <td>...</td>\n",
       "    </tr>\n",
       "    <tr>\n",
       "      <th>4811</th>\n",
       "      <td>Well I had camped in Cypress Hills Interprovin...</td>\n",
       "      <td>0</td>\n",
       "    </tr>\n",
       "    <tr>\n",
       "      <th>4812</th>\n",
       "      <td>I came across your website from following a li...</td>\n",
       "      <td>0</td>\n",
       "    </tr>\n",
       "    <tr>\n",
       "      <th>4813</th>\n",
       "      <td>This incident happened in the summer of 1992 i...</td>\n",
       "      <td>0</td>\n",
       "    </tr>\n",
       "    <tr>\n",
       "      <th>4814</th>\n",
       "      <td>I was about 14 years old, when me and my frien...</td>\n",
       "      <td>0</td>\n",
       "    </tr>\n",
       "    <tr>\n",
       "      <th>4815</th>\n",
       "      <td>The sighting occurred along the Yukon River - ...</td>\n",
       "      <td>0</td>\n",
       "    </tr>\n",
       "  </tbody>\n",
       "</table>\n",
       "<p>4809 rows × 2 columns</p>\n",
       "</div>"
      ],
      "text/plain": [
       "                                               Observed  Label\n",
       "0     I and two of my friends were bored one night s...      0\n",
       "1     Me and a couple of friends had been bored, whe...      0\n",
       "2     My hunting buddy and I were sitting on a ridge...      0\n",
       "3     To whom it may concern, I am a commercial fish...      0\n",
       "4     My hiking partner and I arrived late to the Ke...      0\n",
       "...                                                 ...    ...\n",
       "4811  Well I had camped in Cypress Hills Interprovin...      0\n",
       "4812  I came across your website from following a li...      0\n",
       "4813  This incident happened in the summer of 1992 i...      0\n",
       "4814  I was about 14 years old, when me and my frien...      0\n",
       "4815  The sighting occurred along the Yukon River - ...      0\n",
       "\n",
       "[4809 rows x 2 columns]"
      ]
     },
     "execution_count": 65,
     "metadata": {},
     "output_type": "execute_result"
    }
   ],
   "source": [
    "# bigfoot data processed for classification\n",
    "bigfoot_observed"
   ]
  },
  {
   "cell_type": "code",
   "execution_count": 66,
   "metadata": {},
   "outputs": [
    {
     "data": {
      "text/html": [
       "<div>\n",
       "<style scoped>\n",
       "    .dataframe tbody tr th:only-of-type {\n",
       "        vertical-align: middle;\n",
       "    }\n",
       "\n",
       "    .dataframe tbody tr th {\n",
       "        vertical-align: top;\n",
       "    }\n",
       "\n",
       "    .dataframe thead th {\n",
       "        text-align: right;\n",
       "    }\n",
       "</style>\n",
       "<table border=\"1\" class=\"dataframe\">\n",
       "  <thead>\n",
       "    <tr style=\"text-align: right;\">\n",
       "      <th></th>\n",
       "      <th>Observed</th>\n",
       "      <th>Label</th>\n",
       "    </tr>\n",
       "  </thead>\n",
       "  <tbody>\n",
       "    <tr>\n",
       "      <th>0</th>\n",
       "      <td>Green moving lightDriving west down 80. SWW si...</td>\n",
       "      <td>1</td>\n",
       "    </tr>\n",
       "    <tr>\n",
       "      <th>1</th>\n",
       "      <td>Large fireball moving slowly,  horizonally,  v...</td>\n",
       "      <td>1</td>\n",
       "    </tr>\n",
       "    <tr>\n",
       "      <th>2</th>\n",
       "      <td>Orange dim dark lights 1 on each side.  Invisi...</td>\n",
       "      <td>1</td>\n",
       "    </tr>\n",
       "    <tr>\n",
       "      <th>3</th>\n",
       "      <td>VERY BRIGHT BLUE/WHITE SPHERE SIGHTED TEMPE,AZ...</td>\n",
       "      <td>1</td>\n",
       "    </tr>\n",
       "    <tr>\n",
       "      <th>4</th>\n",
       "      <td>Ball of flashing, sparkling multicolored light...</td>\n",
       "      <td>1</td>\n",
       "    </tr>\n",
       "    <tr>\n",
       "      <th>...</th>\n",
       "      <td>...</td>\n",
       "      <td>...</td>\n",
       "    </tr>\n",
       "    <tr>\n",
       "      <th>4804</th>\n",
       "      <td>I had went to my back porch to make sure the d...</td>\n",
       "      <td>1</td>\n",
       "    </tr>\n",
       "    <tr>\n",
       "      <th>4805</th>\n",
       "      <td>bright circular light shining down toward the ...</td>\n",
       "      <td>1</td>\n",
       "    </tr>\n",
       "    <tr>\n",
       "      <th>4806</th>\n",
       "      <td>Triangular object cruzes north slowely along t...</td>\n",
       "      <td>1</td>\n",
       "    </tr>\n",
       "    <tr>\n",
       "      <th>4807</th>\n",
       "      <td>The triangle shape with no sound.At the time i...</td>\n",
       "      <td>1</td>\n",
       "    </tr>\n",
       "    <tr>\n",
       "      <th>4808</th>\n",
       "      <td>3 objects sighted in Boca Raton.3 separate obj...</td>\n",
       "      <td>1</td>\n",
       "    </tr>\n",
       "  </tbody>\n",
       "</table>\n",
       "<p>4809 rows × 2 columns</p>\n",
       "</div>"
      ],
      "text/plain": [
       "                                               Observed  Label\n",
       "0     Green moving lightDriving west down 80. SWW si...      1\n",
       "1     Large fireball moving slowly,  horizonally,  v...      1\n",
       "2     Orange dim dark lights 1 on each side.  Invisi...      1\n",
       "3     VERY BRIGHT BLUE/WHITE SPHERE SIGHTED TEMPE,AZ...      1\n",
       "4     Ball of flashing, sparkling multicolored light...      1\n",
       "...                                                 ...    ...\n",
       "4804  I had went to my back porch to make sure the d...      1\n",
       "4805  bright circular light shining down toward the ...      1\n",
       "4806  Triangular object cruzes north slowely along t...      1\n",
       "4807  The triangle shape with no sound.At the time i...      1\n",
       "4808  3 objects sighted in Boca Raton.3 separate obj...      1\n",
       "\n",
       "[4809 rows x 2 columns]"
      ]
     },
     "execution_count": 66,
     "metadata": {},
     "output_type": "execute_result"
    }
   ],
   "source": [
    "# ufo and bigfoot matching in shape, in column names, and correctly assigned differing labels\n",
    "ufo_observed"
   ]
  },
  {
   "cell_type": "code",
   "execution_count": 67,
   "metadata": {},
   "outputs": [],
   "source": [
    "# join bigfoot and ufo into one df with labels\n",
    "bigfoot_ufo = bigfoot_observed.merge(ufo_observed, how='outer')"
   ]
  },
  {
   "cell_type": "code",
   "execution_count": 69,
   "metadata": {},
   "outputs": [
    {
     "data": {
      "text/plain": [
       "Observed    0\n",
       "Label       0\n",
       "dtype: int64"
      ]
     },
     "execution_count": 69,
     "metadata": {},
     "output_type": "execute_result"
    }
   ],
   "source": [
    "# doublecheck for no nans\n",
    "bigfoot_ufo.isna().sum()"
   ]
  },
  {
   "cell_type": "markdown",
   "metadata": {},
   "source": [
    "## Final Processed Data"
   ]
  },
  {
   "cell_type": "code",
   "execution_count": 223,
   "metadata": {},
   "outputs": [
    {
     "data": {
      "text/html": [
       "<div>\n",
       "<style scoped>\n",
       "    .dataframe tbody tr th:only-of-type {\n",
       "        vertical-align: middle;\n",
       "    }\n",
       "\n",
       "    .dataframe tbody tr th {\n",
       "        vertical-align: top;\n",
       "    }\n",
       "\n",
       "    .dataframe thead th {\n",
       "        text-align: right;\n",
       "    }\n",
       "</style>\n",
       "<table border=\"1\" class=\"dataframe\">\n",
       "  <thead>\n",
       "    <tr style=\"text-align: right;\">\n",
       "      <th></th>\n",
       "      <th>Observed</th>\n",
       "      <th>Label</th>\n",
       "    </tr>\n",
       "  </thead>\n",
       "  <tbody>\n",
       "    <tr>\n",
       "      <th>0</th>\n",
       "      <td>I and two of my friends were bored one night s...</td>\n",
       "      <td>0</td>\n",
       "    </tr>\n",
       "    <tr>\n",
       "      <th>1</th>\n",
       "      <td>Me and a couple of friends had been bored, whe...</td>\n",
       "      <td>0</td>\n",
       "    </tr>\n",
       "    <tr>\n",
       "      <th>2</th>\n",
       "      <td>My hunting buddy and I were sitting on a ridge...</td>\n",
       "      <td>0</td>\n",
       "    </tr>\n",
       "    <tr>\n",
       "      <th>3</th>\n",
       "      <td>To whom it may concern, I am a commercial fish...</td>\n",
       "      <td>0</td>\n",
       "    </tr>\n",
       "    <tr>\n",
       "      <th>4</th>\n",
       "      <td>My hiking partner and I arrived late to the Ke...</td>\n",
       "      <td>0</td>\n",
       "    </tr>\n",
       "    <tr>\n",
       "      <th>...</th>\n",
       "      <td>...</td>\n",
       "      <td>...</td>\n",
       "    </tr>\n",
       "    <tr>\n",
       "      <th>9613</th>\n",
       "      <td>Hovering object over Noble county IN.Object wa...</td>\n",
       "      <td>1</td>\n",
       "    </tr>\n",
       "    <tr>\n",
       "      <th>9614</th>\n",
       "      <td>bright circular light shining down toward the ...</td>\n",
       "      <td>1</td>\n",
       "    </tr>\n",
       "    <tr>\n",
       "      <th>9615</th>\n",
       "      <td>Triangular object cruzes north slowely along t...</td>\n",
       "      <td>1</td>\n",
       "    </tr>\n",
       "    <tr>\n",
       "      <th>9616</th>\n",
       "      <td>The triangle shape with no sound.At the time i...</td>\n",
       "      <td>1</td>\n",
       "    </tr>\n",
       "    <tr>\n",
       "      <th>9617</th>\n",
       "      <td>3 objects sighted in Boca Raton.3 separate obj...</td>\n",
       "      <td>1</td>\n",
       "    </tr>\n",
       "  </tbody>\n",
       "</table>\n",
       "<p>9618 rows × 2 columns</p>\n",
       "</div>"
      ],
      "text/plain": [
       "                                               Observed  Label\n",
       "0     I and two of my friends were bored one night s...      0\n",
       "1     Me and a couple of friends had been bored, whe...      0\n",
       "2     My hunting buddy and I were sitting on a ridge...      0\n",
       "3     To whom it may concern, I am a commercial fish...      0\n",
       "4     My hiking partner and I arrived late to the Ke...      0\n",
       "...                                                 ...    ...\n",
       "9613  Hovering object over Noble county IN.Object wa...      1\n",
       "9614  bright circular light shining down toward the ...      1\n",
       "9615  Triangular object cruzes north slowely along t...      1\n",
       "9616  The triangle shape with no sound.At the time i...      1\n",
       "9617  3 objects sighted in Boca Raton.3 separate obj...      1\n",
       "\n",
       "[9618 rows x 2 columns]"
      ]
     },
     "execution_count": 223,
     "metadata": {},
     "output_type": "execute_result"
    }
   ],
   "source": [
    "bigfoot_ufo"
   ]
  },
  {
   "cell_type": "code",
   "execution_count": 80,
   "metadata": {},
   "outputs": [],
   "source": [
    "bigfoot_ufo.to_csv('bigfoot_ufo.csv', index=False)"
   ]
  },
  {
   "cell_type": "code",
   "execution_count": 81,
   "metadata": {},
   "outputs": [],
   "source": [
    "bigfoot_ufo = pd.read_csv('bigfoot_ufo.csv')"
   ]
  },
  {
   "cell_type": "code",
   "execution_count": 82,
   "metadata": {},
   "outputs": [
    {
     "data": {
      "text/html": [
       "<div>\n",
       "<style scoped>\n",
       "    .dataframe tbody tr th:only-of-type {\n",
       "        vertical-align: middle;\n",
       "    }\n",
       "\n",
       "    .dataframe tbody tr th {\n",
       "        vertical-align: top;\n",
       "    }\n",
       "\n",
       "    .dataframe thead th {\n",
       "        text-align: right;\n",
       "    }\n",
       "</style>\n",
       "<table border=\"1\" class=\"dataframe\">\n",
       "  <thead>\n",
       "    <tr style=\"text-align: right;\">\n",
       "      <th></th>\n",
       "      <th>Observed</th>\n",
       "      <th>Label</th>\n",
       "    </tr>\n",
       "  </thead>\n",
       "  <tbody>\n",
       "    <tr>\n",
       "      <th>0</th>\n",
       "      <td>I and two of my friends were bored one night s...</td>\n",
       "      <td>0</td>\n",
       "    </tr>\n",
       "    <tr>\n",
       "      <th>1</th>\n",
       "      <td>Me and a couple of friends had been bored, whe...</td>\n",
       "      <td>0</td>\n",
       "    </tr>\n",
       "    <tr>\n",
       "      <th>2</th>\n",
       "      <td>My hunting buddy and I were sitting on a ridge...</td>\n",
       "      <td>0</td>\n",
       "    </tr>\n",
       "    <tr>\n",
       "      <th>3</th>\n",
       "      <td>To whom it may concern, I am a commercial fish...</td>\n",
       "      <td>0</td>\n",
       "    </tr>\n",
       "    <tr>\n",
       "      <th>4</th>\n",
       "      <td>My hiking partner and I arrived late to the Ke...</td>\n",
       "      <td>0</td>\n",
       "    </tr>\n",
       "    <tr>\n",
       "      <th>...</th>\n",
       "      <td>...</td>\n",
       "      <td>...</td>\n",
       "    </tr>\n",
       "    <tr>\n",
       "      <th>9613</th>\n",
       "      <td>Hovering object over Noble county IN.Object wa...</td>\n",
       "      <td>1</td>\n",
       "    </tr>\n",
       "    <tr>\n",
       "      <th>9614</th>\n",
       "      <td>bright circular light shining down toward the ...</td>\n",
       "      <td>1</td>\n",
       "    </tr>\n",
       "    <tr>\n",
       "      <th>9615</th>\n",
       "      <td>Triangular object cruzes north slowely along t...</td>\n",
       "      <td>1</td>\n",
       "    </tr>\n",
       "    <tr>\n",
       "      <th>9616</th>\n",
       "      <td>The triangle shape with no sound.At the time i...</td>\n",
       "      <td>1</td>\n",
       "    </tr>\n",
       "    <tr>\n",
       "      <th>9617</th>\n",
       "      <td>3 objects sighted in Boca Raton.3 separate obj...</td>\n",
       "      <td>1</td>\n",
       "    </tr>\n",
       "  </tbody>\n",
       "</table>\n",
       "<p>9618 rows × 2 columns</p>\n",
       "</div>"
      ],
      "text/plain": [
       "                                               Observed  Label\n",
       "0     I and two of my friends were bored one night s...      0\n",
       "1     Me and a couple of friends had been bored, whe...      0\n",
       "2     My hunting buddy and I were sitting on a ridge...      0\n",
       "3     To whom it may concern, I am a commercial fish...      0\n",
       "4     My hiking partner and I arrived late to the Ke...      0\n",
       "...                                                 ...    ...\n",
       "9613  Hovering object over Noble county IN.Object wa...      1\n",
       "9614  bright circular light shining down toward the ...      1\n",
       "9615  Triangular object cruzes north slowely along t...      1\n",
       "9616  The triangle shape with no sound.At the time i...      1\n",
       "9617  3 objects sighted in Boca Raton.3 separate obj...      1\n",
       "\n",
       "[9618 rows x 2 columns]"
      ]
     },
     "execution_count": 82,
     "metadata": {},
     "output_type": "execute_result"
    }
   ],
   "source": [
    "bigfoot_ufo"
   ]
  },
  {
   "cell_type": "markdown",
   "metadata": {},
   "source": [
    "# Classification"
   ]
  },
  {
   "cell_type": "markdown",
   "metadata": {},
   "source": [
    "* Vectorize (Tfidf and Count)\n",
    "\n",
    "* train-test-split\n",
    "\n",
    "* Naïve Bayes\n",
    "    \n",
    "    * Naïve Bayes treats each feature independently even when not strictly true. That assumption leads to overconfident probabilities closer to 1 or 0, particularly with a large number of features. Even with these errors, the *ranking* of the possible labels is often quite accurate.\n",
    "    \n",
    "    * Bernouli NB\n",
    "    \n",
    "    * Multinomial NB\n",
    "    \n",
    "* Random Forest\n",
    "\n",
    "* roc-auc curves and scores\n",
    "\n"
   ]
  },
  {
   "cell_type": "code",
   "execution_count": 95,
   "metadata": {},
   "outputs": [],
   "source": [
    "from sklearn.feature_extraction.text import TfidfVectorizer\n",
    "from sklearn.feature_extraction.text import CountVectorizer\n",
    "from sklearn.pipeline import Pipeline\n",
    "from sklearn.naive_bayes import BernoulliNB\n",
    "from sklearn.model_selection import train_test_split\n",
    "from sklearn.metrics import roc_curve\n",
    "from sklearn.metrics import roc_auc_score\n"
   ]
  },
  {
   "cell_type": "code",
   "execution_count": 215,
   "metadata": {},
   "outputs": [],
   "source": [
    "TV = TfidfVectorizer(stop_words='english')\n",
    "CV = CountVectorizer(stop_words='english')"
   ]
  },
  {
   "cell_type": "code",
   "execution_count": 216,
   "metadata": {},
   "outputs": [],
   "source": [
    "X = TV.fit_transform(bigfoot_ufo['Observed'])\n",
    "X_count = CV.fit_transform(bigfoot_ufo['Observed'])"
   ]
  },
  {
   "cell_type": "code",
   "execution_count": 100,
   "metadata": {},
   "outputs": [],
   "source": [
    "# vectorizer.get_feature_names()"
   ]
  },
  {
   "cell_type": "code",
   "execution_count": 199,
   "metadata": {},
   "outputs": [
    {
     "name": "stdout",
     "output_type": "stream",
     "text": [
      "(9618, 36752)\n",
      "(9618, 36752)\n"
     ]
    }
   ],
   "source": [
    "print(X.shape)\n",
    "print(X_count.shape)"
   ]
  },
  {
   "cell_type": "code",
   "execution_count": 105,
   "metadata": {},
   "outputs": [],
   "source": [
    "y = bigfoot_ufo['Label']\n",
    "y_count = bigfoot_ufo['Label']"
   ]
  },
  {
   "cell_type": "code",
   "execution_count": 106,
   "metadata": {},
   "outputs": [],
   "source": [
    "X_train, X_test, y_train, y_test = train_test_split(X, y, test_size=0.2, random_state=42, shuffle=True)\n",
    "Xc_train, Xc_test, yc_train, yc_test = train_test_split(X_count, y_count, test_size=0.2, random_state=42, shuffle=True)"
   ]
  },
  {
   "cell_type": "markdown",
   "metadata": {},
   "source": [
    "## Bernoulli Naïve Bayes Classifier"
   ]
  },
  {
   "cell_type": "code",
   "execution_count": 108,
   "metadata": {},
   "outputs": [
    {
     "data": {
      "text/plain": [
       "BernoulliNB(alpha=1.0, binarize=0.0, class_prior=None, fit_prior=True)"
      ]
     },
     "execution_count": 108,
     "metadata": {},
     "output_type": "execute_result"
    }
   ],
   "source": [
    "clf = BernoulliNB()\n",
    "clf.fit(X_train, y_train)\n",
    "\n",
    "clf2 = BernoulliNB()\n",
    "clf2.fit(Xc_train, yc_train)"
   ]
  },
  {
   "cell_type": "code",
   "execution_count": 200,
   "metadata": {},
   "outputs": [
    {
     "data": {
      "image/png": "[encoded data removed]",
      "text/plain": [
       "<Figure size 576x288 with 1 Axes>"
      ]
     },
     "metadata": {
      "needs_background": "light"
     },
     "output_type": "display_data"
    }
   ],
   "source": [
    "bnb_probs = clf.predict_proba(X_test)[:, 1]\n",
    "bnb_fpr, bnb_tpr, bnb_thresholds = roc_curve(y_test, bnb_probs)\n",
    "\n",
    "bnb_probs2 = clf2.predict_proba(X_test)[:, 1]\n",
    "bnb_fpr2, bnb_tpr2, bnb_thresholds2 = roc_curve(yc_test, bnb_probs2)\n",
    "\n",
    "fig, ax = plt.subplots(figsize=(8, 4))\n",
    "\n",
    "ax.plot(bnb_fpr, bnb_tpr, color = 'blue', label='Bernoulli Naive Bayes - TFidf')\n",
    "ax.plot(bnb_fpr2, bnb_tpr2, color = 'yellow', label='Bernoulli Naive Bayes - Count')\n",
    "# ax.plot(x, x, color='black', linestyle='-.')\n",
    "ax.set_xlabel('False Positive Rate')\n",
    "ax.set_ylabel('True Positive Rate')\n",
    "ax.set_title('ROC Plot - Bigfoot or UFO')\n",
    "ax.legend(loc='lower right');\n",
    "\n"
   ]
  },
  {
   "cell_type": "code",
   "execution_count": 201,
   "metadata": {},
   "outputs": [
    {
     "data": {
      "text/plain": [
       "0.9661260021868845"
      ]
     },
     "execution_count": 201,
     "metadata": {},
     "output_type": "execute_result"
    }
   ],
   "source": [
    "# tfidf vectorizer\n",
    "roc_auc_score(y_test, bnb_probs)"
   ]
  },
  {
   "cell_type": "code",
   "execution_count": 211,
   "metadata": {},
   "outputs": [
    {
     "data": {
      "text/plain": [
       "0.9661260021868845"
      ]
     },
     "execution_count": 211,
     "metadata": {},
     "output_type": "execute_result"
    }
   ],
   "source": [
    "# count vectorizer - same as tfidf\n",
    "roc_auc_score(yc_test, bnb_probs2)"
   ]
  },
  {
   "cell_type": "markdown",
   "metadata": {},
   "source": [
    "## Multinomial Naïve Bayes Classifier"
   ]
  },
  {
   "cell_type": "code",
   "execution_count": 89,
   "metadata": {},
   "outputs": [
    {
     "data": {
      "text/plain": [
       "MultinomialNB(alpha=1.0, class_prior=None, fit_prior=True)"
      ]
     },
     "execution_count": 89,
     "metadata": {},
     "output_type": "execute_result"
    }
   ],
   "source": [
    "from sklearn.naive_bayes import MultinomialNB\n",
    "mnb = MultinomialNB()\n",
    "mnb.fit(X_train, y_train)"
   ]
  },
  {
   "cell_type": "code",
   "execution_count": 202,
   "metadata": {},
   "outputs": [
    {
     "data": {
      "text/plain": [
       "MultinomialNB(alpha=1.0, class_prior=None, fit_prior=True)"
      ]
     },
     "execution_count": 202,
     "metadata": {},
     "output_type": "execute_result"
    }
   ],
   "source": [
    "mnb2 = MultinomialNB()\n",
    "mnb2.fit(Xc_train, yc_train)"
   ]
  },
  {
   "cell_type": "code",
   "execution_count": 91,
   "metadata": {},
   "outputs": [],
   "source": [
    "mnb_probs = mnb.predict_proba(X_test)[:, 1]\n",
    "mnb_fpr, mnb_tpr, mnb_thresholds = roc_curve(y_test, mnb_probs)"
   ]
  },
  {
   "cell_type": "code",
   "execution_count": 203,
   "metadata": {},
   "outputs": [],
   "source": [
    "mnb2_probs = mnb2.predict_proba(Xc_test)[:, 1]\n",
    "mnb2_fpr, mnb2_tpr, mnb2_thresholds = roc_curve(yc_test, mnb2_probs)"
   ]
  },
  {
   "cell_type": "code",
   "execution_count": 204,
   "metadata": {},
   "outputs": [
    {
     "data": {
      "image/png": "[encoded data removed]",
      "text/plain": [
       "<Figure size 576x288 with 1 Axes>"
      ]
     },
     "metadata": {
      "needs_background": "light"
     },
     "output_type": "display_data"
    }
   ],
   "source": [
    "fig, ax = plt.subplots(figsize=(8, 4))\n",
    "ax.plot(mnb_fpr, mnb_tpr, color = 'green', label='Multinomial Naive Bayes TFidf')\n",
    "ax.plot(mnb2_fpr, mnb2_tpr, color = 'purple', label='Multinomial Naive Bayes count')\n",
    "# ax.plot(x, x, color='black', linestyle='-.')\n",
    "ax.set_xlabel('False Positive Rate')\n",
    "ax.set_ylabel('True Positive Rate')\n",
    "ax.set_title('ROC Plot - Bigfoot or UFO')\n",
    "ax.legend(loc='lower right');"
   ]
  },
  {
   "cell_type": "code",
   "execution_count": 93,
   "metadata": {},
   "outputs": [
    {
     "data": {
      "text/plain": [
       "0.9992277766782067"
      ]
     },
     "execution_count": 93,
     "metadata": {},
     "output_type": "execute_result"
    }
   ],
   "source": [
    "# tfidf vectorizer \n",
    "roc_auc_score(y_test, mnb_probs)"
   ]
  },
  {
   "cell_type": "code",
   "execution_count": 205,
   "metadata": {},
   "outputs": [
    {
     "data": {
      "text/plain": [
       "0.9992515706741164"
      ]
     },
     "execution_count": 205,
     "metadata": {},
     "output_type": "execute_result"
    }
   ],
   "source": [
    "# count vectorizer - slightly better than tfidf vectorizer\n",
    "roc_auc_score(yc_test, mnb2_probs)"
   ]
  },
  {
   "cell_type": "markdown",
   "metadata": {},
   "source": [
    "## Random Forest Classifier"
   ]
  },
  {
   "cell_type": "code",
   "execution_count": 83,
   "metadata": {},
   "outputs": [
    {
     "data": {
      "text/plain": [
       "RandomForestClassifier(bootstrap=True, ccp_alpha=0.0, class_weight=None,\n",
       "                       criterion='gini', max_depth=2, max_features='auto',\n",
       "                       max_leaf_nodes=None, max_samples=None,\n",
       "                       min_impurity_decrease=0.0, min_impurity_split=None,\n",
       "                       min_samples_leaf=1, min_samples_split=2,\n",
       "                       min_weight_fraction_leaf=0.0, n_estimators=100,\n",
       "                       n_jobs=None, oob_score=False, random_state=42, verbose=0,\n",
       "                       warm_start=False)"
      ]
     },
     "execution_count": 83,
     "metadata": {},
     "output_type": "execute_result"
    }
   ],
   "source": [
    "from sklearn.ensemble import RandomForestClassifier\n",
    "\n",
    "rfc = RandomForestClassifier(max_depth=2, random_state=42)\n",
    "rfc.fit(X_train, y_train)\n"
   ]
  },
  {
   "cell_type": "code",
   "execution_count": 208,
   "metadata": {},
   "outputs": [
    {
     "data": {
      "text/plain": [
       "RandomForestClassifier(bootstrap=True, ccp_alpha=0.0, class_weight=None,\n",
       "                       criterion='gini', max_depth=2, max_features='auto',\n",
       "                       max_leaf_nodes=None, max_samples=None,\n",
       "                       min_impurity_decrease=0.0, min_impurity_split=None,\n",
       "                       min_samples_leaf=1, min_samples_split=2,\n",
       "                       min_weight_fraction_leaf=0.0, n_estimators=100,\n",
       "                       n_jobs=None, oob_score=False, random_state=42, verbose=0,\n",
       "                       warm_start=False)"
      ]
     },
     "execution_count": 208,
     "metadata": {},
     "output_type": "execute_result"
    }
   ],
   "source": [
    "rfc2 = RandomForestClassifier(max_depth=2, random_state=42)\n",
    "rfc2.fit(Xc_train, yc_train)"
   ]
  },
  {
   "cell_type": "code",
   "execution_count": 209,
   "metadata": {},
   "outputs": [
    {
     "data": {
      "image/png": "[encoded data removed]",
      "text/plain": [
       "<Figure size 576x288 with 1 Axes>"
      ]
     },
     "metadata": {
      "needs_background": "light"
     },
     "output_type": "display_data"
    }
   ],
   "source": [
    "rfc_probs = rfc.predict_proba(X_test)[:, 1]\n",
    "rfc_fpr, rfc_tpr, rfc_thresholds = roc_curve(y_test, rfc_probs)\n",
    "\n",
    "rfc_probs2 = rfc2.predict_proba(Xc_test)[:, 1]\n",
    "rfc_fpr2, rfc_tpr2, rfc_thresholds2 = roc_curve(yc_test, rfc_probs2)\n",
    "\n",
    "fig, ax = plt.subplots(figsize=(8, 4))\n",
    "ax.plot(rfc_fpr, rfc_tpr, color = 'red', label='Random Forest Classifier tfidf')\n",
    "ax.plot(rfc_fpr, rfc_tpr, color = 'blue', label='Random Forest Classifier count')\n",
    "# ax.plot(x, x, color='black', linestyle='-.')\n",
    "ax.set_xlabel('False Positive Rate')\n",
    "ax.set_ylabel('True Positive Rate')\n",
    "ax.set_title('ROC Plot - Bigfoot or UFO')\n",
    "ax.legend(loc='lower right');"
   ]
  },
  {
   "cell_type": "code",
   "execution_count": 85,
   "metadata": {},
   "outputs": [
    {
     "data": {
      "text/plain": [
       "0.9922274749270767"
      ]
     },
     "execution_count": 85,
     "metadata": {},
     "output_type": "execute_result"
    }
   ],
   "source": [
    "# tfidf vectorizer slightly beter than count vectorizer\n",
    "roc_auc_score(y_test, rfc_probs)"
   ]
  },
  {
   "cell_type": "code",
   "execution_count": 210,
   "metadata": {},
   "outputs": [
    {
     "data": {
      "text/plain": [
       "0.9922209856554651"
      ]
     },
     "execution_count": 210,
     "metadata": {},
     "output_type": "execute_result"
    }
   ],
   "source": [
    "# count vectorizer\n",
    "roc_auc_score(yc_test, rfc_probs2)"
   ]
  },
  {
   "cell_type": "markdown",
   "metadata": {},
   "source": [
    "## RFC vs BNB vs MNB"
   ]
  },
  {
   "cell_type": "code",
   "execution_count": 212,
   "metadata": {},
   "outputs": [
    {
     "data": {
      "image/png": "[encoded data removed]",
      "text/plain": [
       "<Figure size 576x288 with 1 Axes>"
      ]
     },
     "metadata": {
      "needs_background": "light"
     },
     "output_type": "display_data"
    }
   ],
   "source": [
    "fig, ax = plt.subplots(figsize=(8, 4))\n",
    "ax.plot(rfc_fpr, rfc_tpr, color = 'red', label='Random Forest Classifier tfidf')\n",
    "ax.plot(bnb_fpr, bnb_tpr, color = 'blue', label='Bernoulli Naive Bayes tfidf')\n",
    "ax.plot(mnb_fpr, mnb_tpr, color = 'green', label='Multinomial Naive Bayes tfidf')\n",
    "# ax.plot(x, x, color='black', linestyle='-.')\n",
    "ax.set_xlabel('False Positive Rate')\n",
    "ax.set_ylabel('True Positive Rate')\n",
    "ax.set_title('ROC Plot - Bigfoot or UFO')\n",
    "ax.legend(loc='lower right');"
   ]
  },
  {
   "cell_type": "code",
   "execution_count": 214,
   "metadata": {},
   "outputs": [
    {
     "data": {
      "image/png": "[encoded data removed]",
      "text/plain": [
       "<Figure size 576x288 with 1 Axes>"
      ]
     },
     "metadata": {
      "needs_background": "light"
     },
     "output_type": "display_data"
    }
   ],
   "source": [
    "fig, ax = plt.subplots(figsize=(8, 4))\n",
    "ax.plot(rfc_fpr2, rfc_tpr2, color = 'red', label='Random Forest Classifier count')\n",
    "ax.plot(bnb_fpr2, bnb_tpr2, color = 'blue', label='Bernoulli Naive Bayes count')\n",
    "ax.plot(mnb2_fpr, mnb2_tpr, color = 'green', label='Multinomial Naive Bayes count')\n",
    "# ax.plot(x, x, color='black', linestyle='-.')\n",
    "ax.set_xlabel('False Positive Rate')\n",
    "ax.set_ylabel('True Positive Rate')\n",
    "ax.set_title('ROC Plot - Bigfoot or UFO')\n",
    "ax.legend(loc='lower right');"
   ]
  }
 ],
 "metadata": {
  "kernelspec": {
   "display_name": "Python 3",
   "language": "python",
   "name": "python3"
  },
  "language_info": {
   "codemirror_mode": {
    "name": "ipython",
    "version": 3
   },
   "file_extension": ".py",
   "mimetype": "text/x-python",
   "name": "python",
   "nbconvert_exporter": "python",
   "pygments_lexer": "ipython3",
   "version": "3.7.6"
  }
 },
 "nbformat": 4,
 "nbformat_minor": 4
}
